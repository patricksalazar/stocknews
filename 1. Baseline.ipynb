{
 "cells": [
  {
   "cell_type": "markdown",
   "metadata": {},
   "source": [
    "# Can sentiment be a good predictor of how the Dow Jones will do that day"
   ]
  },
  {
   "cell_type": "markdown",
   "metadata": {},
   "source": [
    "### 1.1 Import libaries"
   ]
  },
  {
   "cell_type": "code",
   "execution_count": 2,
   "metadata": {
    "scrolled": true
   },
   "outputs": [],
   "source": [
    "import os\n",
    "import re\n",
    "import time\n",
    "\n",
    "import numpy as np\n",
    "import pandas as pd\n",
    "# import seaborn as sns\n",
    "import matplotlib.pyplot as plt\n",
    "\n",
    "\n",
    "import nltk\n",
    "nltk.download(\"stopwords\", quiet=True)\n",
    "from nltk.corpus import stopwords\n",
    "from nltk.stem.porter import *\n",
    "\n",
    "from bs4 import BeautifulSoup\n",
    "from wordcloud import WordCloud\n",
    "import pickle\n",
    "\n",
    "from imblearn.under_sampling import ClusterCentroids, RandomUnderSampler, EditedNearestNeighbours \n",
    "from imblearn.under_sampling import AllKNN, NearMiss, OneSidedSelection, TomekLinks\n",
    "from imblearn.metrics import classification_report_imbalanced\n",
    "\n",
    "from sklearn import model_selection\n",
    "from sklearn.model_selection import TimeSeriesSplit\n",
    "from sklearn.linear_model import LogisticRegression\n",
    "from sklearn.tree import DecisionTreeClassifier\n",
    "from sklearn.neighbors import NeighborhoodComponentsAnalysis\n",
    "from sklearn.discriminant_analysis import LinearDiscriminantAnalysis, QuadraticDiscriminantAnalysis\n",
    "from sklearn.naive_bayes import MultinomialNB\n",
    "from sklearn.svm import SVC\n",
    "from sklearn.ensemble import RandomForestClassifier\n",
    "\n",
    "from sklearn.feature_extraction.text import CountVectorizer, TfidfVectorizer\n",
    "from sklearn.linear_model import LogisticRegression\n",
    "from sklearn.metrics import accuracy_score, precision_score, recall_score, f1_score, cohen_kappa_score\n",
    "\n",
    "from lightgbm import LGBMClassifier\n",
    "from xgboost import XGBClassifier\n"
   ]
  },
  {
   "cell_type": "markdown",
   "metadata": {},
   "source": [
    "### 1.2 Retrieve Data"
   ]
  },
  {
   "cell_type": "code",
   "execution_count": 3,
   "metadata": {},
   "outputs": [],
   "source": [
    "data = pd.read_csv('./data/Combined_News_DJIA.csv', encoding='utf-8')"
   ]
  },
  {
   "cell_type": "code",
   "execution_count": 4,
   "metadata": {},
   "outputs": [
    {
     "data": {
      "text/plain": [
       "(1989, 27)"
      ]
     },
     "execution_count": 4,
     "metadata": {},
     "output_type": "execute_result"
    }
   ],
   "source": [
    "data.head()\n",
    "data.shape"
   ]
  },
  {
   "cell_type": "code",
   "execution_count": 5,
   "metadata": {},
   "outputs": [
    {
     "data": {
      "text/html": [
       "<div>\n",
       "<style scoped>\n",
       "    .dataframe tbody tr th:only-of-type {\n",
       "        vertical-align: middle;\n",
       "    }\n",
       "\n",
       "    .dataframe tbody tr th {\n",
       "        vertical-align: top;\n",
       "    }\n",
       "\n",
       "    .dataframe thead th {\n",
       "        text-align: right;\n",
       "    }\n",
       "</style>\n",
       "<table border=\"1\" class=\"dataframe\">\n",
       "  <thead>\n",
       "    <tr style=\"text-align: right;\">\n",
       "      <th></th>\n",
       "      <th>Date</th>\n",
       "      <th>Label</th>\n",
       "      <th>Top1</th>\n",
       "      <th>Top2</th>\n",
       "      <th>Top3</th>\n",
       "      <th>Top4</th>\n",
       "      <th>Top5</th>\n",
       "      <th>Top6</th>\n",
       "      <th>Top7</th>\n",
       "      <th>Top8</th>\n",
       "      <th>...</th>\n",
       "      <th>Top16</th>\n",
       "      <th>Top17</th>\n",
       "      <th>Top18</th>\n",
       "      <th>Top19</th>\n",
       "      <th>Top20</th>\n",
       "      <th>Top21</th>\n",
       "      <th>Top22</th>\n",
       "      <th>Top23</th>\n",
       "      <th>Top24</th>\n",
       "      <th>Top25</th>\n",
       "    </tr>\n",
       "  </thead>\n",
       "  <tbody>\n",
       "    <tr>\n",
       "      <th>0</th>\n",
       "      <td>2008-08-08</td>\n",
       "      <td>0</td>\n",
       "      <td>Georgia 'downs two Russian warplanes' as count...</td>\n",
       "      <td>BREAKING: Musharraf to be impeached.'</td>\n",
       "      <td>Russia Today: Columns of troops roll into Sout...</td>\n",
       "      <td>Russian tanks are moving towards the capital o...</td>\n",
       "      <td>Afghan children raped with 'impunity,' U.N. of...</td>\n",
       "      <td>150 Russian tanks have entered South Ossetia w...</td>\n",
       "      <td>Breaking: Georgia invades South Ossetia, Russi...</td>\n",
       "      <td>The 'enemy combatent' trials are nothing but a...</td>\n",
       "      <td>...</td>\n",
       "      <td>Georgia Invades South Ossetia - if Russia gets...</td>\n",
       "      <td>Al-Qaeda Faces Islamist Backlash'</td>\n",
       "      <td>Condoleezza Rice: \"The US would not act to pre...</td>\n",
       "      <td>This is a busy day:  The European Union has ap...</td>\n",
       "      <td>Georgia will withdraw 1,000 soldiers from Iraq...</td>\n",
       "      <td>Why the Pentagon Thinks Attacking Iran is a Ba...</td>\n",
       "      <td>Caucasus in crisis: Georgia invades South Osse...</td>\n",
       "      <td>Indian shoe manufactory  - And again in a seri...</td>\n",
       "      <td>Visitors Suffering from Mental Illnesses Banne...</td>\n",
       "      <td>No Help for Mexico's Kidnapping Surge\"</td>\n",
       "    </tr>\n",
       "    <tr>\n",
       "      <th>1</th>\n",
       "      <td>2008-08-11</td>\n",
       "      <td>1</td>\n",
       "      <td>Why wont America and Nato help us? If they won...</td>\n",
       "      <td>Bush puts foot down on Georgian conflict'</td>\n",
       "      <td>Jewish Georgian minister: Thanks to Israeli tr...</td>\n",
       "      <td>Georgian army flees in disarray as Russians ad...</td>\n",
       "      <td>Olympic opening ceremony fireworks 'faked'\"</td>\n",
       "      <td>What were the Mossad with fraudulent New Zeala...</td>\n",
       "      <td>Russia angered by Israeli military sale to Geo...</td>\n",
       "      <td>An American citizen living in S.Ossetia blames...</td>\n",
       "      <td>...</td>\n",
       "      <td>Israel and the US behind the Georgian aggressi...</td>\n",
       "      <td>\"Do not believe TV, neither Russian nor Georgi...</td>\n",
       "      <td>Riots are still going on in Montreal (Canada) ...</td>\n",
       "      <td>China to overtake US as largest manufacturer'</td>\n",
       "      <td>War in South Ossetia [PICS]'</td>\n",
       "      <td>Israeli Physicians Group Condemns State Torture'</td>\n",
       "      <td>Russia has just beaten the United States over...</td>\n",
       "      <td>Perhaps *the* question about the Georgia - Rus...</td>\n",
       "      <td>Russia is so much better at war'</td>\n",
       "      <td>So this is what it's come to: trading sex for ...</td>\n",
       "    </tr>\n",
       "    <tr>\n",
       "      <th>2</th>\n",
       "      <td>2008-08-12</td>\n",
       "      <td>0</td>\n",
       "      <td>Remember that adorable 9-year-old who sang at ...</td>\n",
       "      <td>Russia 'ends Georgia operation'\"</td>\n",
       "      <td>\"If we had no sexual harassment we would have ...</td>\n",
       "      <td>Al-Qa'eda is losing support in Iraq because of...</td>\n",
       "      <td>Ceasefire in Georgia: Putin Outmaneuvers the W...</td>\n",
       "      <td>Why Microsoft and Intel tried to kill the XO $...</td>\n",
       "      <td>Stratfor: The Russo-Georgian War and the Balan...</td>\n",
       "      <td>I'm Trying to Get a Sense of This Whole Georgi...</td>\n",
       "      <td>...</td>\n",
       "      <td>U.S. troops still in Georgia (did you know the...</td>\n",
       "      <td>Why Russias response to Georgia was right'</td>\n",
       "      <td>Gorbachev accuses U.S. of making a \"serious bl...</td>\n",
       "      <td>Russia, Georgia, and NATO: Cold War Two'</td>\n",
       "      <td>Remember that adorable 62-year-old who led you...</td>\n",
       "      <td>War in Georgia: The Israeli connection'</td>\n",
       "      <td>All signs point to the US encouraging Georgia ...</td>\n",
       "      <td>Christopher King argues that the US and NATO a...</td>\n",
       "      <td>America: The New Mexico?'</td>\n",
       "      <td>BBC NEWS | Asia-Pacific | Extinction 'by man n...</td>\n",
       "    </tr>\n",
       "    <tr>\n",
       "      <th>3</th>\n",
       "      <td>2008-08-13</td>\n",
       "      <td>0</td>\n",
       "      <td>U.S. refuses Israel weapons to attack Iran: r...</td>\n",
       "      <td>When the president ordered to attack Tskhinval...</td>\n",
       "      <td>Israel clears troops who killed Reuters camer...</td>\n",
       "      <td>Britain\\'s policy of being tough on drugs is \"...</td>\n",
       "      <td>Body of 14 year old found in trunk; Latest (ra...</td>\n",
       "      <td>China has moved 10 *million* quake survivors i...</td>\n",
       "      <td>Bush announces Operation Get All Up In Russia'...</td>\n",
       "      <td>Russian forces sink Georgian ships '</td>\n",
       "      <td>...</td>\n",
       "      <td>Elephants extinct by 2020?'</td>\n",
       "      <td>US humanitarian missions soon in Georgia - if ...</td>\n",
       "      <td>Georgia's DDOS came from US sources\"</td>\n",
       "      <td>Russian convoy heads into Georgia, violating t...</td>\n",
       "      <td>Israeli defence minister: US against strike on...</td>\n",
       "      <td>Gorbachev: We Had No Choice'</td>\n",
       "      <td>Witness: Russian forces head towards Tbilisi i...</td>\n",
       "      <td>Quarter of Russians blame U.S. for conflict: ...</td>\n",
       "      <td>Georgian president  says US military will take...</td>\n",
       "      <td>2006: Nobel laureate Aleksander Solzhenitsyn a...</td>\n",
       "    </tr>\n",
       "    <tr>\n",
       "      <th>4</th>\n",
       "      <td>2008-08-14</td>\n",
       "      <td>1</td>\n",
       "      <td>All the experts admit that we should legalise ...</td>\n",
       "      <td>War in South Osetia - 89 pictures made by a Ru...</td>\n",
       "      <td>Swedish wrestler Ara Abrahamian throws away me...</td>\n",
       "      <td>Russia exaggerated the death toll in South Oss...</td>\n",
       "      <td>Missile That Killed 9 Inside Pakistan May Have...</td>\n",
       "      <td>Rushdie Condemns Random House's Refusal to Pub...</td>\n",
       "      <td>Poland and US agree to missle defense deal. In...</td>\n",
       "      <td>Will the Russians conquer Tblisi? Bet on it, n...</td>\n",
       "      <td>...</td>\n",
       "      <td>Bank analyst forecast Georgian crisis 2 days e...</td>\n",
       "      <td>Georgia confict could set back Russia's US rel...</td>\n",
       "      <td>War in the Caucasus is as much the product of ...</td>\n",
       "      <td>\"Non-media\" photos of South Ossetia/Georgia co...</td>\n",
       "      <td>Georgian TV reporter shot by Russian sniper du...</td>\n",
       "      <td>Saudi Arabia: Mother moves to block child marr...</td>\n",
       "      <td>Taliban wages war on humanitarian aid workers'</td>\n",
       "      <td>Russia: World  \"can forget about\" Georgia\\'s t...</td>\n",
       "      <td>Darfur rebels accuse Sudan of mounting major a...</td>\n",
       "      <td>Philippines : Peace Advocate say Muslims need ...</td>\n",
       "    </tr>\n",
       "  </tbody>\n",
       "</table>\n",
       "<p>5 rows × 27 columns</p>\n",
       "</div>"
      ],
      "text/plain": [
       "         Date  Label                                               Top1  \\\n",
       "0  2008-08-08      0  Georgia 'downs two Russian warplanes' as count...   \n",
       "1  2008-08-11      1  Why wont America and Nato help us? If they won...   \n",
       "2  2008-08-12      0  Remember that adorable 9-year-old who sang at ...   \n",
       "3  2008-08-13      0   U.S. refuses Israel weapons to attack Iran: r...   \n",
       "4  2008-08-14      1  All the experts admit that we should legalise ...   \n",
       "\n",
       "                                                Top2  \\\n",
       "0              BREAKING: Musharraf to be impeached.'   \n",
       "1          Bush puts foot down on Georgian conflict'   \n",
       "2                   Russia 'ends Georgia operation'\"   \n",
       "3  When the president ordered to attack Tskhinval...   \n",
       "4  War in South Osetia - 89 pictures made by a Ru...   \n",
       "\n",
       "                                                Top3  \\\n",
       "0  Russia Today: Columns of troops roll into Sout...   \n",
       "1  Jewish Georgian minister: Thanks to Israeli tr...   \n",
       "2  \"If we had no sexual harassment we would have ...   \n",
       "3   Israel clears troops who killed Reuters camer...   \n",
       "4  Swedish wrestler Ara Abrahamian throws away me...   \n",
       "\n",
       "                                                Top4  \\\n",
       "0  Russian tanks are moving towards the capital o...   \n",
       "1  Georgian army flees in disarray as Russians ad...   \n",
       "2  Al-Qa'eda is losing support in Iraq because of...   \n",
       "3  Britain\\'s policy of being tough on drugs is \"...   \n",
       "4  Russia exaggerated the death toll in South Oss...   \n",
       "\n",
       "                                                Top5  \\\n",
       "0  Afghan children raped with 'impunity,' U.N. of...   \n",
       "1        Olympic opening ceremony fireworks 'faked'\"   \n",
       "2  Ceasefire in Georgia: Putin Outmaneuvers the W...   \n",
       "3  Body of 14 year old found in trunk; Latest (ra...   \n",
       "4  Missile That Killed 9 Inside Pakistan May Have...   \n",
       "\n",
       "                                                Top6  \\\n",
       "0  150 Russian tanks have entered South Ossetia w...   \n",
       "1  What were the Mossad with fraudulent New Zeala...   \n",
       "2  Why Microsoft and Intel tried to kill the XO $...   \n",
       "3  China has moved 10 *million* quake survivors i...   \n",
       "4  Rushdie Condemns Random House's Refusal to Pub...   \n",
       "\n",
       "                                                Top7  \\\n",
       "0  Breaking: Georgia invades South Ossetia, Russi...   \n",
       "1  Russia angered by Israeli military sale to Geo...   \n",
       "2  Stratfor: The Russo-Georgian War and the Balan...   \n",
       "3  Bush announces Operation Get All Up In Russia'...   \n",
       "4  Poland and US agree to missle defense deal. In...   \n",
       "\n",
       "                                                Top8  ...  \\\n",
       "0  The 'enemy combatent' trials are nothing but a...  ...   \n",
       "1  An American citizen living in S.Ossetia blames...  ...   \n",
       "2  I'm Trying to Get a Sense of This Whole Georgi...  ...   \n",
       "3               Russian forces sink Georgian ships '  ...   \n",
       "4  Will the Russians conquer Tblisi? Bet on it, n...  ...   \n",
       "\n",
       "                                               Top16  \\\n",
       "0  Georgia Invades South Ossetia - if Russia gets...   \n",
       "1  Israel and the US behind the Georgian aggressi...   \n",
       "2  U.S. troops still in Georgia (did you know the...   \n",
       "3                        Elephants extinct by 2020?'   \n",
       "4  Bank analyst forecast Georgian crisis 2 days e...   \n",
       "\n",
       "                                               Top17  \\\n",
       "0                  Al-Qaeda Faces Islamist Backlash'   \n",
       "1  \"Do not believe TV, neither Russian nor Georgi...   \n",
       "2         Why Russias response to Georgia was right'   \n",
       "3  US humanitarian missions soon in Georgia - if ...   \n",
       "4  Georgia confict could set back Russia's US rel...   \n",
       "\n",
       "                                               Top18  \\\n",
       "0  Condoleezza Rice: \"The US would not act to pre...   \n",
       "1  Riots are still going on in Montreal (Canada) ...   \n",
       "2  Gorbachev accuses U.S. of making a \"serious bl...   \n",
       "3               Georgia's DDOS came from US sources\"   \n",
       "4  War in the Caucasus is as much the product of ...   \n",
       "\n",
       "                                               Top19  \\\n",
       "0  This is a busy day:  The European Union has ap...   \n",
       "1      China to overtake US as largest manufacturer'   \n",
       "2           Russia, Georgia, and NATO: Cold War Two'   \n",
       "3  Russian convoy heads into Georgia, violating t...   \n",
       "4  \"Non-media\" photos of South Ossetia/Georgia co...   \n",
       "\n",
       "                                               Top20  \\\n",
       "0  Georgia will withdraw 1,000 soldiers from Iraq...   \n",
       "1                       War in South Ossetia [PICS]'   \n",
       "2  Remember that adorable 62-year-old who led you...   \n",
       "3  Israeli defence minister: US against strike on...   \n",
       "4  Georgian TV reporter shot by Russian sniper du...   \n",
       "\n",
       "                                               Top21  \\\n",
       "0  Why the Pentagon Thinks Attacking Iran is a Ba...   \n",
       "1   Israeli Physicians Group Condemns State Torture'   \n",
       "2            War in Georgia: The Israeli connection'   \n",
       "3                       Gorbachev: We Had No Choice'   \n",
       "4  Saudi Arabia: Mother moves to block child marr...   \n",
       "\n",
       "                                               Top22  \\\n",
       "0  Caucasus in crisis: Georgia invades South Osse...   \n",
       "1   Russia has just beaten the United States over...   \n",
       "2  All signs point to the US encouraging Georgia ...   \n",
       "3  Witness: Russian forces head towards Tbilisi i...   \n",
       "4     Taliban wages war on humanitarian aid workers'   \n",
       "\n",
       "                                               Top23  \\\n",
       "0  Indian shoe manufactory  - And again in a seri...   \n",
       "1  Perhaps *the* question about the Georgia - Rus...   \n",
       "2  Christopher King argues that the US and NATO a...   \n",
       "3   Quarter of Russians blame U.S. for conflict: ...   \n",
       "4  Russia: World  \"can forget about\" Georgia\\'s t...   \n",
       "\n",
       "                                               Top24  \\\n",
       "0  Visitors Suffering from Mental Illnesses Banne...   \n",
       "1                   Russia is so much better at war'   \n",
       "2                          America: The New Mexico?'   \n",
       "3  Georgian president  says US military will take...   \n",
       "4  Darfur rebels accuse Sudan of mounting major a...   \n",
       "\n",
       "                                               Top25  \n",
       "0             No Help for Mexico's Kidnapping Surge\"  \n",
       "1  So this is what it's come to: trading sex for ...  \n",
       "2  BBC NEWS | Asia-Pacific | Extinction 'by man n...  \n",
       "3  2006: Nobel laureate Aleksander Solzhenitsyn a...  \n",
       "4  Philippines : Peace Advocate say Muslims need ...  \n",
       "\n",
       "[5 rows x 27 columns]"
      ]
     },
     "execution_count": 5,
     "metadata": {},
     "output_type": "execute_result"
    }
   ],
   "source": [
    "#Remove byte String, newline tabs and the rest\n",
    "data = data.replace({\"b'\": \"\", 'b\"': '', '\\n': '', '\\t': ''}, regex=True)\n",
    "data.head()"
   ]
  },
  {
   "cell_type": "code",
   "execution_count": 6,
   "metadata": {},
   "outputs": [
    {
     "data": {
      "text/html": [
       "<div>\n",
       "<style scoped>\n",
       "    .dataframe tbody tr th:only-of-type {\n",
       "        vertical-align: middle;\n",
       "    }\n",
       "\n",
       "    .dataframe tbody tr th {\n",
       "        vertical-align: top;\n",
       "    }\n",
       "\n",
       "    .dataframe thead th {\n",
       "        text-align: right;\n",
       "    }\n",
       "</style>\n",
       "<table border=\"1\" class=\"dataframe\">\n",
       "  <thead>\n",
       "    <tr style=\"text-align: right;\">\n",
       "      <th></th>\n",
       "      <th>Date</th>\n",
       "      <th>Label</th>\n",
       "      <th>Combined</th>\n",
       "    </tr>\n",
       "  </thead>\n",
       "  <tbody>\n",
       "    <tr>\n",
       "      <th>1984</th>\n",
       "      <td>2016-06-27</td>\n",
       "      <td>0</td>\n",
       "      <td>Barclays and RBS shares suspended from trading...</td>\n",
       "    </tr>\n",
       "    <tr>\n",
       "      <th>1985</th>\n",
       "      <td>2016-06-28</td>\n",
       "      <td>1</td>\n",
       "      <td>Scientists To Australia If You Want To Save T...</td>\n",
       "    </tr>\n",
       "    <tr>\n",
       "      <th>1986</th>\n",
       "      <td>2016-06-29</td>\n",
       "      <td>1</td>\n",
       "      <td>Explosion At Airport In Istanbul Yemeni former...</td>\n",
       "    </tr>\n",
       "    <tr>\n",
       "      <th>1987</th>\n",
       "      <td>2016-06-30</td>\n",
       "      <td>1</td>\n",
       "      <td>Jamaica proposes marijuana dispensers for tour...</td>\n",
       "    </tr>\n",
       "    <tr>\n",
       "      <th>1988</th>\n",
       "      <td>2016-07-01</td>\n",
       "      <td>1</td>\n",
       "      <td>A yearold woman in Mexico City finally receive...</td>\n",
       "    </tr>\n",
       "  </tbody>\n",
       "</table>\n",
       "</div>"
      ],
      "text/plain": [
       "            Date  Label                                           Combined\n",
       "1984  2016-06-27      0  Barclays and RBS shares suspended from trading...\n",
       "1985  2016-06-28      1   Scientists To Australia If You Want To Save T...\n",
       "1986  2016-06-29      1  Explosion At Airport In Istanbul Yemeni former...\n",
       "1987  2016-06-30      1  Jamaica proposes marijuana dispensers for tour...\n",
       "1988  2016-07-01      1  A yearold woman in Mexico City finally receive..."
      ]
     },
     "execution_count": 6,
     "metadata": {},
     "output_type": "execute_result"
    }
   ],
   "source": [
    "clean_df = data.iloc[:,0:2] \n",
    "clean_df['Combined'] = data.iloc[:,2:].apply(lambda row: ''.join(str(row.values)), axis=1)\n",
    "clean_df['Combined'] = clean_df['Combined'].replace('[^a-zA-Z ]', '', regex=True)\n",
    "#clean_df['Combined'] = clean_df['Combined'].replace('[^a-zA-Z ]', '', regex=True)\n",
    "clean_df.tail()"
   ]
  },
  {
   "cell_type": "code",
   "execution_count": 7,
   "metadata": {},
   "outputs": [],
   "source": [
    "# Only evaluate data from 1/4/2010-7/1/2016\n",
    "clean_df = clean_df[clean_df['Date'] >= '2010-01-04']"
   ]
  },
  {
   "cell_type": "code",
   "execution_count": 8,
   "metadata": {},
   "outputs": [
    {
     "name": "stdout",
     "output_type": "stream",
     "text": [
      "(1636, 2) (1636, 2)\n"
     ]
    }
   ],
   "source": [
    "X = clean_df.iloc[:,[0,2]]\n",
    "y = clean_df.iloc[:,[0,1]]\n",
    "print(X.shape, y.shape)"
   ]
  },
  {
   "cell_type": "markdown",
   "metadata": {},
   "source": [
    "### 1.3 Clean Data.  Remove bytes and consolidate news articles.  Thanks to Kate for consolidation logic"
   ]
  },
  {
   "cell_type": "code",
   "execution_count": 9,
   "metadata": {},
   "outputs": [
    {
     "data": {
      "text/html": [
       "<div>\n",
       "<style scoped>\n",
       "    .dataframe tbody tr th:only-of-type {\n",
       "        vertical-align: middle;\n",
       "    }\n",
       "\n",
       "    .dataframe tbody tr th {\n",
       "        vertical-align: top;\n",
       "    }\n",
       "\n",
       "    .dataframe thead th {\n",
       "        text-align: right;\n",
       "    }\n",
       "</style>\n",
       "<table border=\"1\" class=\"dataframe\">\n",
       "  <thead>\n",
       "    <tr style=\"text-align: right;\">\n",
       "      <th></th>\n",
       "      <th>Date</th>\n",
       "      <th>Combined</th>\n",
       "    </tr>\n",
       "  </thead>\n",
       "  <tbody>\n",
       "    <tr>\n",
       "      <th>353</th>\n",
       "      <td>2010-01-04</td>\n",
       "      <td>New airport scanners break child porn laws Ind...</td>\n",
       "    </tr>\n",
       "    <tr>\n",
       "      <th>354</th>\n",
       "      <td>2010-01-05</td>\n",
       "      <td>These images depict the untouched stomach cont...</td>\n",
       "    </tr>\n",
       "    <tr>\n",
       "      <th>355</th>\n",
       "      <td>2010-01-06</td>\n",
       "      <td>Three Americans go to Uganda and teach thousan...</td>\n",
       "    </tr>\n",
       "    <tr>\n",
       "      <th>356</th>\n",
       "      <td>2010-01-07</td>\n",
       "      <td>yearold British woman on holiday in Dubai told...</td>\n",
       "    </tr>\n",
       "    <tr>\n",
       "      <th>357</th>\n",
       "      <td>2010-01-08</td>\n",
       "      <td>Top Imams affiliated with the Islamic Supreme ...</td>\n",
       "    </tr>\n",
       "  </tbody>\n",
       "</table>\n",
       "</div>"
      ],
      "text/plain": [
       "           Date                                           Combined\n",
       "353  2010-01-04  New airport scanners break child porn laws Ind...\n",
       "354  2010-01-05  These images depict the untouched stomach cont...\n",
       "355  2010-01-06  Three Americans go to Uganda and teach thousan...\n",
       "356  2010-01-07  yearold British woman on holiday in Dubai told...\n",
       "357  2010-01-08  Top Imams affiliated with the Islamic Supreme ..."
      ]
     },
     "execution_count": 9,
     "metadata": {},
     "output_type": "execute_result"
    }
   ],
   "source": [
    "X.head()"
   ]
  },
  {
   "cell_type": "markdown",
   "metadata": {},
   "source": [
    "## 1.4 Benchmark test\n",
    "Run a benchmark test using the existing label.  Do a time based split based on 70/30 ratio training to test set.  Utilize TF-IDF and XGBoost"
   ]
  },
  {
   "cell_type": "code",
   "execution_count": 10,
   "metadata": {},
   "outputs": [],
   "source": [
    "ddates = X['Date'].unique()\n",
    "cutoff = ddates[int(len(ddates)*.7)]\n",
    "X_split_train = X[X['Date'] <= cutoff]\n",
    "y_split_train = y[y['Date'] <= cutoff]['Label']\n",
    "X_split_test = X[X['Date'] > cutoff]\n",
    "y_split_test = y[y['Date'] > cutoff]['Label']"
   ]
  },
  {
   "cell_type": "code",
   "execution_count": 12,
   "metadata": {},
   "outputs": [],
   "source": [
    "score_df = pd.DataFrame(columns=['Name', 'Accuracy','Precision','Recall','F1','Cappa'])\n",
    "conf_df = pd.DataFrame(columns=['Label', 'Good/Bad','Buy','Sell','Hold','Miss','Total'])\n",
    "\n",
    "label = 'Split'\n",
    "model = XGBClassifier()\n",
    "tv = TfidfVectorizer(analyzer='word',min_df=0.0, max_df=1.0, ngram_range=(1,3), token_pattern=r'\\w{1,}', sublinear_tf=True, max_features=10000)\n",
    "\n",
    "# Get TF-IDF on all the data\n",
    "train_features = tv.fit_transform(X_split_train['Combined'].dropna().values.flatten())\n",
    "test_features = tv.transform(X_split_test['Combined'].dropna().values.flatten())\n",
    "\n",
    "\n",
    "# Run modeling algorithm\n",
    "model = model.fit(train_features.toarray(), y_split_train)\n",
    "predictions = model.predict(test_features.toarray())\n",
    "\n",
    "accuracy = accuracy_score(y_split_test, predictions)\n",
    "precision = precision_score(y_split_test, predictions, labels=[-1,1], average='weighted')\n",
    "recall = recall_score(y_split_test, predictions, labels=[-1,1], average='weighted')\n",
    "f1 = f1_score(y_split_test, predictions, labels=[-1,1], average='weighted')\n",
    "cohen = cohen_kappa_score(y_split_test, predictions, labels=[-1,1])\n",
    "score = {'Accuracy': accuracy, 'Precision': precision, 'Recall': recall, 'F1': f1, 'Cappa': cohen}\n",
    "score_df = score_df.append(score, ignore_index=True)"
   ]
  },
  {
   "cell_type": "code",
   "execution_count": 13,
   "metadata": {},
   "outputs": [
    {
     "data": {
      "text/html": [
       "<div>\n",
       "<style scoped>\n",
       "    .dataframe tbody tr th:only-of-type {\n",
       "        vertical-align: middle;\n",
       "    }\n",
       "\n",
       "    .dataframe tbody tr th {\n",
       "        vertical-align: top;\n",
       "    }\n",
       "\n",
       "    .dataframe thead th {\n",
       "        text-align: right;\n",
       "    }\n",
       "</style>\n",
       "<table border=\"1\" class=\"dataframe\">\n",
       "  <thead>\n",
       "    <tr style=\"text-align: right;\">\n",
       "      <th></th>\n",
       "      <th>Name</th>\n",
       "      <th>Accuracy</th>\n",
       "      <th>Precision</th>\n",
       "      <th>Recall</th>\n",
       "      <th>F1</th>\n",
       "      <th>Cappa</th>\n",
       "    </tr>\n",
       "  </thead>\n",
       "  <tbody>\n",
       "    <tr>\n",
       "      <th>0</th>\n",
       "      <td>NaN</td>\n",
       "      <td>0.559184</td>\n",
       "      <td>0.554896</td>\n",
       "      <td>0.73913</td>\n",
       "      <td>0.633898</td>\n",
       "      <td>NaN</td>\n",
       "    </tr>\n",
       "  </tbody>\n",
       "</table>\n",
       "</div>"
      ],
      "text/plain": [
       "   Name  Accuracy  Precision   Recall        F1  Cappa\n",
       "0   NaN  0.559184   0.554896  0.73913  0.633898    NaN"
      ]
     },
     "execution_count": 13,
     "metadata": {},
     "output_type": "execute_result"
    }
   ],
   "source": [
    "score_df"
   ]
  },
  {
   "cell_type": "markdown",
   "metadata": {},
   "source": [
    "### 1.4 Utilize 1 and 2 sigma classification for stocks"
   ]
  },
  {
   "cell_type": "markdown",
   "metadata": {},
   "source": [
    "#### 1.4.1 Import stock data"
   ]
  },
  {
   "cell_type": "code",
   "execution_count": 9,
   "metadata": {},
   "outputs": [],
   "source": [
    "stockdf = pd.read_csv('./data/DJIA_table.csv', encoding='utf-8')"
   ]
  },
  {
   "cell_type": "code",
   "execution_count": 10,
   "metadata": {},
   "outputs": [
    {
     "data": {
      "text/html": [
       "<div>\n",
       "<style scoped>\n",
       "    .dataframe tbody tr th:only-of-type {\n",
       "        vertical-align: middle;\n",
       "    }\n",
       "\n",
       "    .dataframe tbody tr th {\n",
       "        vertical-align: top;\n",
       "    }\n",
       "\n",
       "    .dataframe thead th {\n",
       "        text-align: right;\n",
       "    }\n",
       "</style>\n",
       "<table border=\"1\" class=\"dataframe\">\n",
       "  <thead>\n",
       "    <tr style=\"text-align: right;\">\n",
       "      <th></th>\n",
       "      <th>Date</th>\n",
       "      <th>Open</th>\n",
       "      <th>High</th>\n",
       "      <th>Low</th>\n",
       "      <th>Close</th>\n",
       "      <th>Volume</th>\n",
       "      <th>Adj Close</th>\n",
       "    </tr>\n",
       "  </thead>\n",
       "  <tbody>\n",
       "    <tr>\n",
       "      <th>0</th>\n",
       "      <td>2016-07-01</td>\n",
       "      <td>17924.240234</td>\n",
       "      <td>18002.380859</td>\n",
       "      <td>17916.910156</td>\n",
       "      <td>17949.369141</td>\n",
       "      <td>82160000</td>\n",
       "      <td>17949.369141</td>\n",
       "    </tr>\n",
       "    <tr>\n",
       "      <th>1</th>\n",
       "      <td>2016-06-30</td>\n",
       "      <td>17712.759766</td>\n",
       "      <td>17930.609375</td>\n",
       "      <td>17711.800781</td>\n",
       "      <td>17929.990234</td>\n",
       "      <td>133030000</td>\n",
       "      <td>17929.990234</td>\n",
       "    </tr>\n",
       "    <tr>\n",
       "      <th>2</th>\n",
       "      <td>2016-06-29</td>\n",
       "      <td>17456.019531</td>\n",
       "      <td>17704.509766</td>\n",
       "      <td>17456.019531</td>\n",
       "      <td>17694.679688</td>\n",
       "      <td>106380000</td>\n",
       "      <td>17694.679688</td>\n",
       "    </tr>\n",
       "    <tr>\n",
       "      <th>3</th>\n",
       "      <td>2016-06-28</td>\n",
       "      <td>17190.509766</td>\n",
       "      <td>17409.720703</td>\n",
       "      <td>17190.509766</td>\n",
       "      <td>17409.720703</td>\n",
       "      <td>112190000</td>\n",
       "      <td>17409.720703</td>\n",
       "    </tr>\n",
       "    <tr>\n",
       "      <th>4</th>\n",
       "      <td>2016-06-27</td>\n",
       "      <td>17355.210938</td>\n",
       "      <td>17355.210938</td>\n",
       "      <td>17063.080078</td>\n",
       "      <td>17140.240234</td>\n",
       "      <td>138740000</td>\n",
       "      <td>17140.240234</td>\n",
       "    </tr>\n",
       "  </tbody>\n",
       "</table>\n",
       "</div>"
      ],
      "text/plain": [
       "         Date          Open          High           Low         Close  \\\n",
       "0  2016-07-01  17924.240234  18002.380859  17916.910156  17949.369141   \n",
       "1  2016-06-30  17712.759766  17930.609375  17711.800781  17929.990234   \n",
       "2  2016-06-29  17456.019531  17704.509766  17456.019531  17694.679688   \n",
       "3  2016-06-28  17190.509766  17409.720703  17190.509766  17409.720703   \n",
       "4  2016-06-27  17355.210938  17355.210938  17063.080078  17140.240234   \n",
       "\n",
       "      Volume     Adj Close  \n",
       "0   82160000  17949.369141  \n",
       "1  133030000  17929.990234  \n",
       "2  106380000  17694.679688  \n",
       "3  112190000  17409.720703  \n",
       "4  138740000  17140.240234  "
      ]
     },
     "execution_count": 10,
     "metadata": {},
     "output_type": "execute_result"
    }
   ],
   "source": [
    "stockdf.head()"
   ]
  },
  {
   "cell_type": "markdown",
   "metadata": {},
   "source": [
    "#### 1.4.2 Calculate Daily return which is difference between open and close"
   ]
  },
  {
   "cell_type": "code",
   "execution_count": 11,
   "metadata": {
    "scrolled": true
   },
   "outputs": [
    {
     "data": {
      "text/html": [
       "<div>\n",
       "<style scoped>\n",
       "    .dataframe tbody tr th:only-of-type {\n",
       "        vertical-align: middle;\n",
       "    }\n",
       "\n",
       "    .dataframe tbody tr th {\n",
       "        vertical-align: top;\n",
       "    }\n",
       "\n",
       "    .dataframe thead th {\n",
       "        text-align: right;\n",
       "    }\n",
       "</style>\n",
       "<table border=\"1\" class=\"dataframe\">\n",
       "  <thead>\n",
       "    <tr style=\"text-align: right;\">\n",
       "      <th></th>\n",
       "      <th>Date</th>\n",
       "      <th>Open</th>\n",
       "      <th>High</th>\n",
       "      <th>Low</th>\n",
       "      <th>Close</th>\n",
       "      <th>Volume</th>\n",
       "      <th>Adj Close</th>\n",
       "      <th>Daily Return</th>\n",
       "    </tr>\n",
       "  </thead>\n",
       "  <tbody>\n",
       "    <tr>\n",
       "      <th>0</th>\n",
       "      <td>2016-07-01</td>\n",
       "      <td>17924.240234</td>\n",
       "      <td>18002.380859</td>\n",
       "      <td>17916.910156</td>\n",
       "      <td>17949.369141</td>\n",
       "      <td>82160000</td>\n",
       "      <td>17949.369141</td>\n",
       "      <td>0.140195</td>\n",
       "    </tr>\n",
       "    <tr>\n",
       "      <th>1</th>\n",
       "      <td>2016-06-30</td>\n",
       "      <td>17712.759766</td>\n",
       "      <td>17930.609375</td>\n",
       "      <td>17711.800781</td>\n",
       "      <td>17929.990234</td>\n",
       "      <td>133030000</td>\n",
       "      <td>17929.990234</td>\n",
       "      <td>1.226407</td>\n",
       "    </tr>\n",
       "    <tr>\n",
       "      <th>2</th>\n",
       "      <td>2016-06-29</td>\n",
       "      <td>17456.019531</td>\n",
       "      <td>17704.509766</td>\n",
       "      <td>17456.019531</td>\n",
       "      <td>17694.679688</td>\n",
       "      <td>106380000</td>\n",
       "      <td>17694.679688</td>\n",
       "      <td>1.367208</td>\n",
       "    </tr>\n",
       "    <tr>\n",
       "      <th>3</th>\n",
       "      <td>2016-06-28</td>\n",
       "      <td>17190.509766</td>\n",
       "      <td>17409.720703</td>\n",
       "      <td>17190.509766</td>\n",
       "      <td>17409.720703</td>\n",
       "      <td>112190000</td>\n",
       "      <td>17409.720703</td>\n",
       "      <td>1.275186</td>\n",
       "    </tr>\n",
       "    <tr>\n",
       "      <th>4</th>\n",
       "      <td>2016-06-27</td>\n",
       "      <td>17355.210938</td>\n",
       "      <td>17355.210938</td>\n",
       "      <td>17063.080078</td>\n",
       "      <td>17140.240234</td>\n",
       "      <td>138740000</td>\n",
       "      <td>17140.240234</td>\n",
       "      <td>-1.238652</td>\n",
       "    </tr>\n",
       "  </tbody>\n",
       "</table>\n",
       "</div>"
      ],
      "text/plain": [
       "         Date          Open          High           Low         Close  \\\n",
       "0  2016-07-01  17924.240234  18002.380859  17916.910156  17949.369141   \n",
       "1  2016-06-30  17712.759766  17930.609375  17711.800781  17929.990234   \n",
       "2  2016-06-29  17456.019531  17704.509766  17456.019531  17694.679688   \n",
       "3  2016-06-28  17190.509766  17409.720703  17190.509766  17409.720703   \n",
       "4  2016-06-27  17355.210938  17355.210938  17063.080078  17140.240234   \n",
       "\n",
       "      Volume     Adj Close  Daily Return  \n",
       "0   82160000  17949.369141      0.140195  \n",
       "1  133030000  17929.990234      1.226407  \n",
       "2  106380000  17694.679688      1.367208  \n",
       "3  112190000  17409.720703      1.275186  \n",
       "4  138740000  17140.240234     -1.238652  "
      ]
     },
     "execution_count": 11,
     "metadata": {},
     "output_type": "execute_result"
    }
   ],
   "source": [
    "stockdf['Daily Return']=(stockdf['Close']-stockdf['Open'])/stockdf['Open']*100\n",
    "stockdf.head()"
   ]
  },
  {
   "cell_type": "markdown",
   "metadata": {},
   "source": [
    "#### 1.4.3 Generate sigma (std dev) based on stock change by day"
   ]
  },
  {
   "cell_type": "code",
   "execution_count": 12,
   "metadata": {},
   "outputs": [
    {
     "data": {
      "text/plain": [
       "std     1.252473\n",
       "mean    0.036604\n",
       "Name: Daily Return, dtype: float64"
      ]
     },
     "execution_count": 12,
     "metadata": {},
     "output_type": "execute_result"
    }
   ],
   "source": [
    "sigma = stockdf['Daily Return'].agg({'mean', 'std'})\n",
    "sigma"
   ]
  },
  {
   "cell_type": "code",
   "execution_count": 13,
   "metadata": {},
   "outputs": [
    {
     "data": {
      "text/plain": [
       "std          1.252473\n",
       "mean         0.036604\n",
       "1sigmalow   -1.215870\n",
       "1sigmahi     1.289077\n",
       "2sigmalow   -2.468343\n",
       "2sigmahi     2.541550\n",
       "Name: Daily Return, dtype: float64"
      ]
     },
     "execution_count": 13,
     "metadata": {},
     "output_type": "execute_result"
    }
   ],
   "source": [
    "sigma['1sigmalow']=sigma['mean']-sigma['std']\n",
    "sigma['1sigmahi']=sigma['mean']+sigma['std']\n",
    "sigma['2sigmalow']=sigma['mean']-2*(sigma['std'])\n",
    "sigma['2sigmahi']=sigma['mean']+2*(sigma['std'])\n",
    "sigma"
   ]
  },
  {
   "cell_type": "markdown",
   "metadata": {},
   "source": [
    "#### 1.4.4 Classify stocks by std dev away"
   ]
  },
  {
   "cell_type": "code",
   "execution_count": 14,
   "metadata": {},
   "outputs": [],
   "source": [
    "def onesigma(row):\n",
    "    if row['Daily Return'] < sigma['1sigmalow']:\n",
    "        row['Label1Sig'] = -1\n",
    "    elif row['Daily Return'] > sigma['1sigmahi']:\n",
    "        row['Label1Sig'] = 1\n",
    "    else:\n",
    "        row['Label1Sig'] = 0\n",
    "    if row['Daily Return'] < sigma['2sigmalow']:\n",
    "        row['Label2Sig'] = -1\n",
    "    elif row['Daily Return'] > sigma['2sigmahi']:\n",
    "        row['Label2Sig'] = 1\n",
    "    else:\n",
    "        row['Label2Sig'] = 0\n",
    "    return row"
   ]
  },
  {
   "cell_type": "code",
   "execution_count": 15,
   "metadata": {},
   "outputs": [],
   "source": [
    "stockdf['Label1Sig'] = 0\n",
    "stockdf['Label2Sig'] = 0"
   ]
  },
  {
   "cell_type": "code",
   "execution_count": 16,
   "metadata": {},
   "outputs": [
    {
     "data": {
      "text/html": [
       "<div>\n",
       "<style scoped>\n",
       "    .dataframe tbody tr th:only-of-type {\n",
       "        vertical-align: middle;\n",
       "    }\n",
       "\n",
       "    .dataframe tbody tr th {\n",
       "        vertical-align: top;\n",
       "    }\n",
       "\n",
       "    .dataframe thead th {\n",
       "        text-align: right;\n",
       "    }\n",
       "</style>\n",
       "<table border=\"1\" class=\"dataframe\">\n",
       "  <thead>\n",
       "    <tr style=\"text-align: right;\">\n",
       "      <th></th>\n",
       "      <th>Date</th>\n",
       "      <th>Open</th>\n",
       "      <th>High</th>\n",
       "      <th>Low</th>\n",
       "      <th>Close</th>\n",
       "      <th>Volume</th>\n",
       "      <th>Adj Close</th>\n",
       "      <th>Daily Return</th>\n",
       "      <th>Label1Sig</th>\n",
       "      <th>Label2Sig</th>\n",
       "    </tr>\n",
       "  </thead>\n",
       "  <tbody>\n",
       "    <tr>\n",
       "      <th>0</th>\n",
       "      <td>2016-07-01</td>\n",
       "      <td>17924.240234</td>\n",
       "      <td>18002.380859</td>\n",
       "      <td>17916.910156</td>\n",
       "      <td>17949.369141</td>\n",
       "      <td>82160000</td>\n",
       "      <td>17949.369141</td>\n",
       "      <td>0.140195</td>\n",
       "      <td>0</td>\n",
       "      <td>0</td>\n",
       "    </tr>\n",
       "    <tr>\n",
       "      <th>1</th>\n",
       "      <td>2016-06-30</td>\n",
       "      <td>17712.759766</td>\n",
       "      <td>17930.609375</td>\n",
       "      <td>17711.800781</td>\n",
       "      <td>17929.990234</td>\n",
       "      <td>133030000</td>\n",
       "      <td>17929.990234</td>\n",
       "      <td>1.226407</td>\n",
       "      <td>0</td>\n",
       "      <td>0</td>\n",
       "    </tr>\n",
       "    <tr>\n",
       "      <th>2</th>\n",
       "      <td>2016-06-29</td>\n",
       "      <td>17456.019531</td>\n",
       "      <td>17704.509766</td>\n",
       "      <td>17456.019531</td>\n",
       "      <td>17694.679688</td>\n",
       "      <td>106380000</td>\n",
       "      <td>17694.679688</td>\n",
       "      <td>1.367208</td>\n",
       "      <td>1</td>\n",
       "      <td>0</td>\n",
       "    </tr>\n",
       "    <tr>\n",
       "      <th>3</th>\n",
       "      <td>2016-06-28</td>\n",
       "      <td>17190.509766</td>\n",
       "      <td>17409.720703</td>\n",
       "      <td>17190.509766</td>\n",
       "      <td>17409.720703</td>\n",
       "      <td>112190000</td>\n",
       "      <td>17409.720703</td>\n",
       "      <td>1.275186</td>\n",
       "      <td>0</td>\n",
       "      <td>0</td>\n",
       "    </tr>\n",
       "    <tr>\n",
       "      <th>4</th>\n",
       "      <td>2016-06-27</td>\n",
       "      <td>17355.210938</td>\n",
       "      <td>17355.210938</td>\n",
       "      <td>17063.080078</td>\n",
       "      <td>17140.240234</td>\n",
       "      <td>138740000</td>\n",
       "      <td>17140.240234</td>\n",
       "      <td>-1.238652</td>\n",
       "      <td>-1</td>\n",
       "      <td>0</td>\n",
       "    </tr>\n",
       "  </tbody>\n",
       "</table>\n",
       "</div>"
      ],
      "text/plain": [
       "         Date          Open          High           Low         Close  \\\n",
       "0  2016-07-01  17924.240234  18002.380859  17916.910156  17949.369141   \n",
       "1  2016-06-30  17712.759766  17930.609375  17711.800781  17929.990234   \n",
       "2  2016-06-29  17456.019531  17704.509766  17456.019531  17694.679688   \n",
       "3  2016-06-28  17190.509766  17409.720703  17190.509766  17409.720703   \n",
       "4  2016-06-27  17355.210938  17355.210938  17063.080078  17140.240234   \n",
       "\n",
       "      Volume     Adj Close  Daily Return  Label1Sig  Label2Sig  \n",
       "0   82160000  17949.369141      0.140195          0          0  \n",
       "1  133030000  17929.990234      1.226407          0          0  \n",
       "2  106380000  17694.679688      1.367208          1          0  \n",
       "3  112190000  17409.720703      1.275186          0          0  \n",
       "4  138740000  17140.240234     -1.238652         -1          0  "
      ]
     },
     "execution_count": 16,
     "metadata": {},
     "output_type": "execute_result"
    }
   ],
   "source": [
    "labled_df = stockdf.apply(onesigma, axis=1)\n",
    "labled_df.head()"
   ]
  },
  {
   "cell_type": "markdown",
   "metadata": {},
   "source": [
    "#### 1.4.5 Visual the classification 1 and 2 sigma (std dev) away."
   ]
  },
  {
   "cell_type": "code",
   "execution_count": 17,
   "metadata": {},
   "outputs": [
    {
     "data": {
      "text/html": [
       "<div>\n",
       "<style scoped>\n",
       "    .dataframe tbody tr th:only-of-type {\n",
       "        vertical-align: middle;\n",
       "    }\n",
       "\n",
       "    .dataframe tbody tr th {\n",
       "        vertical-align: top;\n",
       "    }\n",
       "\n",
       "    .dataframe thead th {\n",
       "        text-align: right;\n",
       "    }\n",
       "</style>\n",
       "<table border=\"1\" class=\"dataframe\">\n",
       "  <thead>\n",
       "    <tr style=\"text-align: right;\">\n",
       "      <th></th>\n",
       "      <th>HOLD</th>\n",
       "      <th>BUY</th>\n",
       "      <th>SELL</th>\n",
       "      <th>TOTAL</th>\n",
       "      <th>HOLD_PCT</th>\n",
       "      <th>BUY_PCT</th>\n",
       "      <th>SELL_PCT</th>\n",
       "    </tr>\n",
       "  </thead>\n",
       "  <tbody>\n",
       "    <tr>\n",
       "      <th>1 sigma</th>\n",
       "      <td>1613</td>\n",
       "      <td>179</td>\n",
       "      <td>197</td>\n",
       "      <td>1989</td>\n",
       "      <td>81.096028</td>\n",
       "      <td>8.999497</td>\n",
       "      <td>9.904475</td>\n",
       "    </tr>\n",
       "    <tr>\n",
       "      <th>2 sigma</th>\n",
       "      <td>1890</td>\n",
       "      <td>45</td>\n",
       "      <td>54</td>\n",
       "      <td>1989</td>\n",
       "      <td>95.022624</td>\n",
       "      <td>2.262443</td>\n",
       "      <td>2.714932</td>\n",
       "    </tr>\n",
       "  </tbody>\n",
       "</table>\n",
       "</div>"
      ],
      "text/plain": [
       "         HOLD  BUY  SELL  TOTAL   HOLD_PCT   BUY_PCT  SELL_PCT\n",
       "1 sigma  1613  179   197   1989  81.096028  8.999497  9.904475\n",
       "2 sigma  1890   45    54   1989  95.022624  2.262443  2.714932"
      ]
     },
     "execution_count": 17,
     "metadata": {},
     "output_type": "execute_result"
    }
   ],
   "source": [
    "classifier_df = pd.DataFrame(columns=['HOLD', 'BUY', 'SELL', 'TOTAL'], index=['1 sigma', '2 sigma'],\n",
    "                            data=[[len(labled_df[labled_df['Label1Sig'] == 0]),len(labled_df[labled_df['Label1Sig'] == 1]),len(labled_df[labled_df['Label1Sig'] == -1]),len(labled_df)],\n",
    "                                 [len(labled_df[labled_df['Label2Sig'] == 0]),len(labled_df[labled_df['Label2Sig'] == 1]),len(labled_df[labled_df['Label2Sig'] == -1]),len(labled_df)]])\n",
    "classifier_df['HOLD_PCT'] = classifier_df['HOLD']/classifier_df['TOTAL']*100\n",
    "classifier_df['BUY_PCT'] = classifier_df['BUY']/classifier_df['TOTAL']*100\n",
    "classifier_df['SELL_PCT'] = classifier_df['SELL']/classifier_df['TOTAL']*100\n",
    "classifier_df"
   ]
  },
  {
   "cell_type": "markdown",
   "metadata": {},
   "source": [
    "### 1.5 Merge the News and stock data sets"
   ]
  },
  {
   "cell_type": "code",
   "execution_count": 18,
   "metadata": {},
   "outputs": [
    {
     "data": {
      "text/html": [
       "<div>\n",
       "<style scoped>\n",
       "    .dataframe tbody tr th:only-of-type {\n",
       "        vertical-align: middle;\n",
       "    }\n",
       "\n",
       "    .dataframe tbody tr th {\n",
       "        vertical-align: top;\n",
       "    }\n",
       "\n",
       "    .dataframe thead th {\n",
       "        text-align: right;\n",
       "    }\n",
       "</style>\n",
       "<table border=\"1\" class=\"dataframe\">\n",
       "  <thead>\n",
       "    <tr style=\"text-align: right;\">\n",
       "      <th></th>\n",
       "      <th>Date</th>\n",
       "      <th>Label</th>\n",
       "      <th>Combined</th>\n",
       "      <th>Daily Return</th>\n",
       "      <th>Label1Sig</th>\n",
       "      <th>Label2Sig</th>\n",
       "    </tr>\n",
       "  </thead>\n",
       "  <tbody>\n",
       "    <tr>\n",
       "      <th>0</th>\n",
       "      <td>2010-01-04</td>\n",
       "      <td>1</td>\n",
       "      <td>New airport scanners break child porn laws Ind...</td>\n",
       "      <td>1.469409</td>\n",
       "      <td>1</td>\n",
       "      <td>0</td>\n",
       "    </tr>\n",
       "    <tr>\n",
       "      <th>1</th>\n",
       "      <td>2010-01-05</td>\n",
       "      <td>0</td>\n",
       "      <td>These images depict the untouched stomach cont...</td>\n",
       "      <td>-0.118475</td>\n",
       "      <td>0</td>\n",
       "      <td>0</td>\n",
       "    </tr>\n",
       "    <tr>\n",
       "      <th>2</th>\n",
       "      <td>2010-01-06</td>\n",
       "      <td>1</td>\n",
       "      <td>Three Americans go to Uganda and teach thousan...</td>\n",
       "      <td>0.084810</td>\n",
       "      <td>0</td>\n",
       "      <td>0</td>\n",
       "    </tr>\n",
       "    <tr>\n",
       "      <th>3</th>\n",
       "      <td>2010-01-07</td>\n",
       "      <td>1</td>\n",
       "      <td>yearold British woman on holiday in Dubai told...</td>\n",
       "      <td>0.338186</td>\n",
       "      <td>0</td>\n",
       "      <td>0</td>\n",
       "    </tr>\n",
       "    <tr>\n",
       "      <th>4</th>\n",
       "      <td>2010-01-08</td>\n",
       "      <td>1</td>\n",
       "      <td>Top Imams affiliated with the Islamic Supreme ...</td>\n",
       "      <td>0.111160</td>\n",
       "      <td>0</td>\n",
       "      <td>0</td>\n",
       "    </tr>\n",
       "  </tbody>\n",
       "</table>\n",
       "</div>"
      ],
      "text/plain": [
       "         Date  Label                                           Combined  \\\n",
       "0  2010-01-04      1  New airport scanners break child porn laws Ind...   \n",
       "1  2010-01-05      0  These images depict the untouched stomach cont...   \n",
       "2  2010-01-06      1  Three Americans go to Uganda and teach thousan...   \n",
       "3  2010-01-07      1  yearold British woman on holiday in Dubai told...   \n",
       "4  2010-01-08      1  Top Imams affiliated with the Islamic Supreme ...   \n",
       "\n",
       "   Daily Return  Label1Sig  Label2Sig  \n",
       "0      1.469409          1          0  \n",
       "1     -0.118475          0          0  \n",
       "2      0.084810          0          0  \n",
       "3      0.338186          0          0  \n",
       "4      0.111160          0          0  "
      ]
     },
     "execution_count": 18,
     "metadata": {},
     "output_type": "execute_result"
    }
   ],
   "source": [
    "merge_df = pd.merge(clean_df, labled_df[['Date','Daily Return', 'Label1Sig', 'Label2Sig']], on='Date')\n",
    "merge_df.head()"
   ]
  },
  {
   "cell_type": "markdown",
   "metadata": {},
   "source": [
    "### 1.6 Build Word cloud for negative articles"
   ]
  },
  {
   "cell_type": "code",
   "execution_count": 19,
   "metadata": {},
   "outputs": [
    {
     "data": {
      "text/plain": [
       "['Im', 'proud', 'the', 'Dutch', 'collect']"
      ]
     },
     "execution_count": 19,
     "metadata": {},
     "output_type": "execute_result"
    }
   ],
   "source": [
    "neg_words = []\n",
    "neg_phrases = merge_df[merge_df['Label1Sig'] == -1]['Combined'].values\n",
    "for phrase in neg_phrases:\n",
    "    for word in phrase.split():\n",
    "        neg_words.append(word)\n",
    "neg_words[:5]"
   ]
  },
  {
   "cell_type": "code",
   "execution_count": 20,
   "metadata": {},
   "outputs": [
    {
     "data": {
      "text/plain": [
       "'Im proud the Dutch collect over mln for Haiti government doubles it all totaling Dutch link A TSA wo'"
      ]
     },
     "execution_count": 20,
     "metadata": {},
     "output_type": "execute_result"
    }
   ],
   "source": [
    "neg_text = pd.Series(neg_words).str.cat(sep=' ')\n",
    "neg_text[:100]"
   ]
  },
  {
   "cell_type": "code",
   "execution_count": 21,
   "metadata": {
    "scrolled": true
   },
   "outputs": [
    {
     "data": {
      "image/png": "[encoded data removed]",
      "text/plain": [
       "<Figure size 864x720 with 1 Axes>"
      ]
     },
     "metadata": {
      "needs_background": "light"
     },
     "output_type": "display_data"
    }
   ],
   "source": [
    "wordcloud = WordCloud(width=1600, height=800, max_font_size=200).generate(neg_text)\n",
    "plt.figure(figsize=(12,10))\n",
    "plt.imshow(wordcloud, interpolation='bilinear')\n",
    "plt.axis(\"off\")\n",
    "plt.show()"
   ]
  },
  {
   "cell_type": "code",
   "execution_count": 22,
   "metadata": {},
   "outputs": [
    {
     "data": {
      "text/plain": [
       "['New', 'airport', 'scanners', 'break', 'child']"
      ]
     },
     "execution_count": 22,
     "metadata": {},
     "output_type": "execute_result"
    }
   ],
   "source": [
    "pos_words = []\n",
    "pos_phrases = merge_df[merge_df['Label1Sig'] == 1]['Combined'].values\n",
    "for phrase in pos_phrases:\n",
    "    for word in phrase.split():\n",
    "        pos_words.append(word)\n",
    "pos_words[:5]"
   ]
  },
  {
   "cell_type": "code",
   "execution_count": 23,
   "metadata": {},
   "outputs": [
    {
     "data": {
      "text/plain": [
       "'New airport scanners break child porn laws Indian eye clinic founded by a single doc has treated mil'"
      ]
     },
     "execution_count": 23,
     "metadata": {},
     "output_type": "execute_result"
    }
   ],
   "source": [
    "pos_text = pd.Series(pos_words).str.cat(sep=' ')\n",
    "pos_text[:100]"
   ]
  },
  {
   "cell_type": "code",
   "execution_count": 24,
   "metadata": {
    "scrolled": true
   },
   "outputs": [
    {
     "data": {
      "image/png": "[encoded data removed]",
      "text/plain": [
       "<Figure size 864x720 with 1 Axes>"
      ]
     },
     "metadata": {
      "needs_background": "light"
     },
     "output_type": "display_data"
    }
   ],
   "source": [
    "wordcloud = WordCloud(width=1600, height=800, max_font_size=200).generate(pos_text)\n",
    "plt.figure(figsize=(12,10))\n",
    "plt.imshow(wordcloud, interpolation='bilinear')\n",
    "plt.axis(\"off\")\n",
    "plt.show()"
   ]
  },
  {
   "cell_type": "markdown",
   "metadata": {},
   "source": [
    "### 1.6 Separate train and test Data"
   ]
  },
  {
   "cell_type": "code",
   "execution_count": 25,
   "metadata": {},
   "outputs": [
    {
     "data": {
      "text/html": [
       "<div>\n",
       "<style scoped>\n",
       "    .dataframe tbody tr th:only-of-type {\n",
       "        vertical-align: middle;\n",
       "    }\n",
       "\n",
       "    .dataframe tbody tr th {\n",
       "        vertical-align: top;\n",
       "    }\n",
       "\n",
       "    .dataframe thead th {\n",
       "        text-align: right;\n",
       "    }\n",
       "</style>\n",
       "<table border=\"1\" class=\"dataframe\">\n",
       "  <thead>\n",
       "    <tr style=\"text-align: right;\">\n",
       "      <th></th>\n",
       "      <th>Label1Sig</th>\n",
       "      <th>Combined</th>\n",
       "    </tr>\n",
       "    <tr>\n",
       "      <th>Date</th>\n",
       "      <th></th>\n",
       "      <th></th>\n",
       "    </tr>\n",
       "  </thead>\n",
       "  <tbody>\n",
       "    <tr>\n",
       "      <th>2010-01-04</th>\n",
       "      <td>1</td>\n",
       "      <td>New airport scanners break child porn laws Ind...</td>\n",
       "    </tr>\n",
       "    <tr>\n",
       "      <th>2010-01-05</th>\n",
       "      <td>0</td>\n",
       "      <td>These images depict the untouched stomach cont...</td>\n",
       "    </tr>\n",
       "    <tr>\n",
       "      <th>2010-01-06</th>\n",
       "      <td>0</td>\n",
       "      <td>Three Americans go to Uganda and teach thousan...</td>\n",
       "    </tr>\n",
       "    <tr>\n",
       "      <th>2010-01-07</th>\n",
       "      <td>0</td>\n",
       "      <td>yearold British woman on holiday in Dubai told...</td>\n",
       "    </tr>\n",
       "    <tr>\n",
       "      <th>2010-01-08</th>\n",
       "      <td>0</td>\n",
       "      <td>Top Imams affiliated with the Islamic Supreme ...</td>\n",
       "    </tr>\n",
       "  </tbody>\n",
       "</table>\n",
       "</div>"
      ],
      "text/plain": [
       "            Label1Sig                                           Combined\n",
       "Date                                                                    \n",
       "2010-01-04          1  New airport scanners break child porn laws Ind...\n",
       "2010-01-05          0  These images depict the untouched stomach cont...\n",
       "2010-01-06          0  Three Americans go to Uganda and teach thousan...\n",
       "2010-01-07          0  yearold British woman on holiday in Dubai told...\n",
       "2010-01-08          0  Top Imams affiliated with the Islamic Supreme ..."
      ]
     },
     "execution_count": 25,
     "metadata": {},
     "output_type": "execute_result"
    }
   ],
   "source": [
    "sigma = 'Label1Sig'\n",
    "X = merge_df[['Date', sigma,'Combined']]\n",
    "X = X.set_index('Date')\n",
    "y = merge_df[sigma]\n",
    "X.head()"
   ]
  },
  {
   "cell_type": "markdown",
   "metadata": {},
   "source": [
    "### 1.6.1 Split data first by time series"
   ]
  },
  {
   "cell_type": "code",
   "execution_count": 26,
   "metadata": {},
   "outputs": [],
   "source": [
    "train_arr = []\n",
    "test_arr = []\n",
    "tscv = TimeSeriesSplit(n_splits=7)\n",
    "for train_index, test_index in tscv.split(X):\n",
    "    train_arr.append(train_index)\n",
    "    test_arr.append(test_index)"
   ]
  },
  {
   "cell_type": "code",
   "execution_count": 27,
   "metadata": {},
   "outputs": [],
   "source": [
    "def get_train_test_val_split(train_index, test_index):\n",
    "    test_size = min(int(len(train_index)/2), len(test_index))\n",
    "    X_train, X_val, X_test = X.iloc[train_index[0:-test_size-1],:], X.iloc[train_index[-test_size:],:], X.iloc[test_index,:]\n",
    "    y_train, y_val, y_test = y[train_index[0:-test_size-1]],y[train_index[-test_size:]], y[test_index]\n",
    "    return X_train, X_val, X_test, y_train, y_val, y_test"
   ]
  },
  {
   "cell_type": "code",
   "execution_count": 28,
   "metadata": {},
   "outputs": [
    {
     "name": "stdout",
     "output_type": "stream",
     "text": [
      "204\n",
      "train 0 1227\n",
      "valid 1228 1431\n",
      "test 1432 1635\n"
     ]
    }
   ],
   "source": [
    "train_index = train_arr[6]\n",
    "test_index = test_arr[6]\n",
    "test_size = len(test_arr[6])\n",
    "print(test_size)\n",
    "print('train',train_index[0],train_index[-test_size-1])\n",
    "print('valid',train_index[-test_size],train_index[-1])\n",
    "print('test',test_index[0],test_index[-1])"
   ]
  },
  {
   "cell_type": "markdown",
   "metadata": {},
   "source": [
    "#### Initiallly test the types of undersampling and models based on data and then perform the time split"
   ]
  },
  {
   "cell_type": "code",
   "execution_count": 29,
   "metadata": {},
   "outputs": [
    {
     "data": {
      "text/html": [
       "<div>\n",
       "<style scoped>\n",
       "    .dataframe tbody tr th:only-of-type {\n",
       "        vertical-align: middle;\n",
       "    }\n",
       "\n",
       "    .dataframe tbody tr th {\n",
       "        vertical-align: top;\n",
       "    }\n",
       "\n",
       "    .dataframe thead th {\n",
       "        text-align: right;\n",
       "    }\n",
       "</style>\n",
       "<table border=\"1\" class=\"dataframe\">\n",
       "  <thead>\n",
       "    <tr style=\"text-align: right;\">\n",
       "      <th></th>\n",
       "      <th>Label1Sig</th>\n",
       "      <th>Combined</th>\n",
       "    </tr>\n",
       "    <tr>\n",
       "      <th>Date</th>\n",
       "      <th></th>\n",
       "      <th></th>\n",
       "    </tr>\n",
       "  </thead>\n",
       "  <tbody>\n",
       "    <tr>\n",
       "      <th>2014-11-10</th>\n",
       "      <td>0</td>\n",
       "      <td>Pope Francis has excommunicated a pedophile Ar...</td>\n",
       "    </tr>\n",
       "    <tr>\n",
       "      <th>2014-11-11</th>\n",
       "      <td>0</td>\n",
       "      <td>Geologists who didnt predict an earthquake are...</td>\n",
       "    </tr>\n",
       "    <tr>\n",
       "      <th>2014-11-12</th>\n",
       "      <td>0</td>\n",
       "      <td>Russian combat troops have entered Ukraine alo...</td>\n",
       "    </tr>\n",
       "    <tr>\n",
       "      <th>2014-11-13</th>\n",
       "      <td>0</td>\n",
       "      <td>European robot probe Philae has made the first...</td>\n",
       "    </tr>\n",
       "    <tr>\n",
       "      <th>2014-11-14</th>\n",
       "      <td>0</td>\n",
       "      <td>Sweden has proof foreign sub entered its water...</td>\n",
       "    </tr>\n",
       "  </tbody>\n",
       "</table>\n",
       "</div>"
      ],
      "text/plain": [
       "            Label1Sig                                           Combined\n",
       "Date                                                                    \n",
       "2014-11-10          0  Pope Francis has excommunicated a pedophile Ar...\n",
       "2014-11-11          0  Geologists who didnt predict an earthquake are...\n",
       "2014-11-12          0  Russian combat troops have entered Ukraine alo...\n",
       "2014-11-13          0  European robot probe Philae has made the first...\n",
       "2014-11-14          0  Sweden has proof foreign sub entered its water..."
      ]
     },
     "execution_count": 29,
     "metadata": {},
     "output_type": "execute_result"
    }
   ],
   "source": [
    "X_train, X_val, X_test, y_train, y_val, y_test = get_train_test_val_split(train_arr[6], test_arr[6])\n",
    "X_train.tail()"
   ]
  },
  {
   "cell_type": "markdown",
   "metadata": {},
   "source": [
    "#### 1.6.2 Run bag of words and term frequency on training set"
   ]
  },
  {
   "cell_type": "code",
   "execution_count": 30,
   "metadata": {},
   "outputs": [],
   "source": [
    "cv = CountVectorizer(stop_words='english', ngram_range=(1,3), max_features=10000, lowercase=True, token_pattern=r'\\b[^\\d\\W]+\\b')\n",
    "tv = TfidfVectorizer(analyzer='word',min_df=0.0, max_df=1.0, ngram_range=(1,3), token_pattern=r'\\w{1,}', sublinear_tf=True, max_features=10000)\n",
    "\n",
    "# Lowers all words and removes any numbers from terms\n",
    "# def get_bag_of_words(cv, X):\n",
    "#     train_features = cv.fit_transform(X['Combined'])\n",
    "#     return train_features\n",
    "\n",
    "# def get_term_freq(tv, X):\n",
    "#     train_features = tv.fit_transform(X['Combined'].dropna().values.flatten())\n",
    "#     return train_features\n",
    "\n",
    "def display_term_count(X, y):\n",
    "    neg_matrix=cv.transform(X.iloc[np.where(y == -1)[0].tolist(), :].Combined)\n",
    "    neg_words = neg_matrix.sum(axis=0)\n",
    "    neg_words_freq = [(word, neg_words[0, idx]) for word, idx in cv.vocabulary_.items()]\n",
    "    neg_tf = pd.DataFrame(list(sorted(neg_words_freq, key = lambda x: x[1], reverse=True)),columns=['Terms','negative'])\n",
    "    neg_tf = neg_tf.set_index('Terms')\n",
    "\n",
    "    pos_matrix=cv.transform(X.iloc[np.where(y == 1)[0].tolist(), :].Combined)\n",
    "    pos_words = pos_matrix.sum(axis=0)\n",
    "    pos_words_freq = [(word,pos_words[0, idx]) for word, idx in cv.vocabulary_.items()]\n",
    "    pos_tf = pd.DataFrame(list(sorted(pos_words_freq, key = lambda x: x[1], reverse=True)),columns=['Terms','positive'])\n",
    "    pos_tf = pos_tf.set_index('Terms')\n",
    "\n",
    "    term_df = pd.concat([neg_tf, pos_tf], sort=True, axis=1)\n",
    "    term_df['total'] = term_df['negative']+term_df['positive']\n",
    "    term_df = term_df.sort_values(by='total', ascending=False)\n",
    "    print(term_df.head(5))\n",
    "    \n",
    "def score_test(name, y_test, y_predict):\n",
    "    accuracy = accuracy_score(y_test, predictions)\n",
    "    precision = precision_score(y_test, predictions, labels=[-1,1], average='weighted')\n",
    "    recall = recall_score(y_test, predictions, labels=[-1,1], average='weighted')\n",
    "    f1 = f1_score(y_test, predictions, labels=[-1,1], average='weighted')\n",
    "    cohen = cohen_kappa_score(y_test, predictions, labels=[-1,1])\n",
    "    return {'Name': name, 'Accuracy': accuracy, 'Precision': precision, 'Recall': recall, 'F1': f1, 'Cappa': cohen}\n",
    "\n",
    "def calc_true_score(label, y_test, y_predict):\n",
    "    conf_matrix = pd.crosstab(y_test, y_predict, rownames=[\"Actual\"], colnames=[\"Predicted\"])\n",
    "    if conf_matrix.shape[0] < 3 | conf_matrix.shape[1] < 3:\n",
    "        return   # if predictions are all 1 value then do not print\n",
    "        \n",
    "    conf_arr = [\n",
    "        {\n",
    "            'Label': label, 'Good/Bad': 'Good',\n",
    "            'Buy': conf_matrix.get(1,{}).get(1,0),\n",
    "            'Sell': conf_matrix.get(-1,{}).get(-1,0),\n",
    "            'Hold': conf_matrix.get(0,{}).get(0,0),\n",
    "            'Miss': 0,\n",
    "            'Total': conf_matrix.get(1,{}).get(1,0)+conf_matrix.get(-1,{}).get(-1,0)+conf_matrix.get(0,{}).get(0,0)\n",
    "        },\n",
    "        {\n",
    "            'Label': label, 'Good/Bad': 'Bad',\n",
    "            'Buy': conf_matrix.get(1,{}).get(-1,0),\n",
    "            'Sell': conf_matrix.get(-1,{}).get(1,0),\n",
    "            'Hold': conf_matrix.get(0,{}).get(1,0)+conf_matrix.get(0,{}).get(-1,0),\n",
    "            'Miss': conf_matrix.get(1,{}).get(0,0)+conf_matrix.get(-1,{}).get(0,0),\n",
    "            'Total': conf_matrix.iloc[1,:].sum()\n",
    "        }\n",
    "    ]\n",
    "    conf_arr.append({'Label': label+' Total', 'Good/Bad': '',\n",
    "                    'Buy': conf_arr[0]['Buy'] + conf_arr[1]['Buy'],\n",
    "                    'Sell': conf_arr[0]['Sell'] + conf_arr[1]['Sell'],\n",
    "                    'Hold': conf_arr[0]['Hold'] + conf_arr[1]['Hold'],\n",
    "                    'Miss': conf_arr[0]['Miss'] + conf_arr[1]['Miss'],\n",
    "                    'Total': conf_arr[0]['Total'] + conf_arr[1]['Total']\n",
    "                    })\n",
    "    conf_arr.append({'Label': label+' %', 'Good/Bad': 'True%',\n",
    "                    'Buy': round(100*conf_arr[0]['Buy'] / conf_arr[2]['Buy'] if conf_arr[2]['Buy'] else 0),\n",
    "                    'Sell': round(100*conf_arr[0]['Sell'] / conf_arr[2]['Sell'] if conf_arr[2]['Sell'] else 0),\n",
    "                    'Hold': round(100*conf_arr[0]['Hold'] / conf_arr[2]['Hold'] if conf_arr[2]['Hold'] else 0),\n",
    "                    'Miss': round(100*conf_arr[1]['Miss'] / conf_arr[2]['Hold'] if conf_arr[2]['Hold'] else 0),\n",
    "                    'Total': round(100*conf_arr[0]['Total'] / conf_arr[2]['Total'])\n",
    "                    })\n",
    "    return conf_arr\n"
   ]
  },
  {
   "cell_type": "code",
   "execution_count": 31,
   "metadata": {},
   "outputs": [
    {
     "data": {
      "text/plain": [
       "(1636, 10000)"
      ]
     },
     "execution_count": 31,
     "metadata": {},
     "output_type": "execute_result"
    }
   ],
   "source": [
    "cv.fit(X['Combined'])\n",
    "cv_train_features = cv.transform(X['Combined'])\n",
    "cv_train_df = pd.DataFrame(cv_train_features.toarray(), columns=list(cv.get_feature_names()))\n",
    "cv_train_df.shape"
   ]
  },
  {
   "cell_type": "code",
   "execution_count": 32,
   "metadata": {},
   "outputs": [
    {
     "data": {
      "text/plain": [
       "(1227, 10000)"
      ]
     },
     "execution_count": 32,
     "metadata": {},
     "output_type": "execute_result"
    }
   ],
   "source": [
    "tv.fit(X['Combined'].dropna().values.flatten())\n",
    "tv_train_features = tv.transform(X_train['Combined'].dropna().values.flatten())\n",
    "\n",
    "tv_train_df = pd.DataFrame(tv_train_features.toarray(), columns=list(tv.get_feature_names()))\n",
    "tv_train_df.shape"
   ]
  },
  {
   "cell_type": "code",
   "execution_count": 33,
   "metadata": {},
   "outputs": [
    {
     "name": "stdout",
     "output_type": "stream",
     "text": [
      "        negative  positive  total\n",
      "new           98       103    201\n",
      "israel        99       101    200\n",
      "police       104        96    200\n",
      "says          95        87    182\n",
      "china         80        98    178\n"
     ]
    }
   ],
   "source": [
    "display_term_count(X_train, y_train)"
   ]
  },
  {
   "cell_type": "markdown",
   "metadata": {},
   "source": [
    "### 1.7 Run undersampling on the BOW and TF-IDF"
   ]
  },
  {
   "cell_type": "markdown",
   "metadata": {},
   "source": [
    "#### 1.7.1 Undersampling methods"
   ]
  },
  {
   "cell_type": "code",
   "execution_count": 34,
   "metadata": {},
   "outputs": [],
   "source": [
    "rnd = RandomUnderSampler(sampling_strategy='majority')\n",
    "X_sampled, y_sampled = rnd.fit_sample(tv_train_features, y_train)"
   ]
  },
  {
   "cell_type": "code",
   "execution_count": 35,
   "metadata": {},
   "outputs": [
    {
     "name": "stdout",
     "output_type": "stream",
     "text": [
      "84\n",
      "80\n",
      "80\n"
     ]
    }
   ],
   "source": [
    "print(len(np.where(y_sampled == -1)[0]))\n",
    "print(len(np.where(y_sampled == 0)[0]))\n",
    "print(len(np.where(y_sampled == 1)[0]))\n"
   ]
  },
  {
   "cell_type": "code",
   "execution_count": 36,
   "metadata": {},
   "outputs": [
    {
     "data": {
      "text/html": [
       "<div>\n",
       "<style scoped>\n",
       "    .dataframe tbody tr th:only-of-type {\n",
       "        vertical-align: middle;\n",
       "    }\n",
       "\n",
       "    .dataframe tbody tr th {\n",
       "        vertical-align: top;\n",
       "    }\n",
       "\n",
       "    .dataframe thead th {\n",
       "        text-align: right;\n",
       "    }\n",
       "</style>\n",
       "<table border=\"1\" class=\"dataframe\">\n",
       "  <thead>\n",
       "    <tr style=\"text-align: right;\">\n",
       "      <th></th>\n",
       "      <th>a</th>\n",
       "      <th>a ban</th>\n",
       "      <th>a ban on</th>\n",
       "      <th>a barrel</th>\n",
       "      <th>a better</th>\n",
       "      <th>a bid</th>\n",
       "      <th>a bid to</th>\n",
       "      <th>a big</th>\n",
       "      <th>a bill</th>\n",
       "      <th>a billion</th>\n",
       "      <th>...</th>\n",
       "      <th>zealands</th>\n",
       "      <th>zero</th>\n",
       "      <th>zetas</th>\n",
       "      <th>zika</th>\n",
       "      <th>zika virus</th>\n",
       "      <th>zimbabwe</th>\n",
       "      <th>zimbabwes</th>\n",
       "      <th>zone</th>\n",
       "      <th>zones</th>\n",
       "      <th>zoo</th>\n",
       "    </tr>\n",
       "  </thead>\n",
       "  <tbody>\n",
       "    <tr>\n",
       "      <th>0</th>\n",
       "      <td>0.040581</td>\n",
       "      <td>0.0</td>\n",
       "      <td>0.0</td>\n",
       "      <td>0.0</td>\n",
       "      <td>0.0</td>\n",
       "      <td>0.0</td>\n",
       "      <td>0.0</td>\n",
       "      <td>0.0</td>\n",
       "      <td>0.0</td>\n",
       "      <td>0.000000</td>\n",
       "      <td>...</td>\n",
       "      <td>0.0</td>\n",
       "      <td>0.0</td>\n",
       "      <td>0.0</td>\n",
       "      <td>0.0</td>\n",
       "      <td>0.0</td>\n",
       "      <td>0.0</td>\n",
       "      <td>0.0</td>\n",
       "      <td>0.000000</td>\n",
       "      <td>0.0</td>\n",
       "      <td>0.0</td>\n",
       "    </tr>\n",
       "    <tr>\n",
       "      <th>1</th>\n",
       "      <td>0.035174</td>\n",
       "      <td>0.0</td>\n",
       "      <td>0.0</td>\n",
       "      <td>0.0</td>\n",
       "      <td>0.0</td>\n",
       "      <td>0.0</td>\n",
       "      <td>0.0</td>\n",
       "      <td>0.0</td>\n",
       "      <td>0.0</td>\n",
       "      <td>0.000000</td>\n",
       "      <td>...</td>\n",
       "      <td>0.0</td>\n",
       "      <td>0.0</td>\n",
       "      <td>0.0</td>\n",
       "      <td>0.0</td>\n",
       "      <td>0.0</td>\n",
       "      <td>0.0</td>\n",
       "      <td>0.0</td>\n",
       "      <td>0.000000</td>\n",
       "      <td>0.0</td>\n",
       "      <td>0.0</td>\n",
       "    </tr>\n",
       "    <tr>\n",
       "      <th>2</th>\n",
       "      <td>0.037232</td>\n",
       "      <td>0.0</td>\n",
       "      <td>0.0</td>\n",
       "      <td>0.0</td>\n",
       "      <td>0.0</td>\n",
       "      <td>0.0</td>\n",
       "      <td>0.0</td>\n",
       "      <td>0.0</td>\n",
       "      <td>0.0</td>\n",
       "      <td>0.000000</td>\n",
       "      <td>...</td>\n",
       "      <td>0.0</td>\n",
       "      <td>0.0</td>\n",
       "      <td>0.0</td>\n",
       "      <td>0.0</td>\n",
       "      <td>0.0</td>\n",
       "      <td>0.0</td>\n",
       "      <td>0.0</td>\n",
       "      <td>0.000000</td>\n",
       "      <td>0.0</td>\n",
       "      <td>0.0</td>\n",
       "    </tr>\n",
       "    <tr>\n",
       "      <th>3</th>\n",
       "      <td>0.043355</td>\n",
       "      <td>0.0</td>\n",
       "      <td>0.0</td>\n",
       "      <td>0.0</td>\n",
       "      <td>0.0</td>\n",
       "      <td>0.0</td>\n",
       "      <td>0.0</td>\n",
       "      <td>0.0</td>\n",
       "      <td>0.0</td>\n",
       "      <td>0.068194</td>\n",
       "      <td>...</td>\n",
       "      <td>0.0</td>\n",
       "      <td>0.0</td>\n",
       "      <td>0.0</td>\n",
       "      <td>0.0</td>\n",
       "      <td>0.0</td>\n",
       "      <td>0.0</td>\n",
       "      <td>0.0</td>\n",
       "      <td>0.000000</td>\n",
       "      <td>0.0</td>\n",
       "      <td>0.0</td>\n",
       "    </tr>\n",
       "    <tr>\n",
       "      <th>4</th>\n",
       "      <td>0.042192</td>\n",
       "      <td>0.0</td>\n",
       "      <td>0.0</td>\n",
       "      <td>0.0</td>\n",
       "      <td>0.0</td>\n",
       "      <td>0.0</td>\n",
       "      <td>0.0</td>\n",
       "      <td>0.0</td>\n",
       "      <td>0.0</td>\n",
       "      <td>0.000000</td>\n",
       "      <td>...</td>\n",
       "      <td>0.0</td>\n",
       "      <td>0.0</td>\n",
       "      <td>0.0</td>\n",
       "      <td>0.0</td>\n",
       "      <td>0.0</td>\n",
       "      <td>0.0</td>\n",
       "      <td>0.0</td>\n",
       "      <td>0.046705</td>\n",
       "      <td>0.0</td>\n",
       "      <td>0.0</td>\n",
       "    </tr>\n",
       "  </tbody>\n",
       "</table>\n",
       "<p>5 rows × 10000 columns</p>\n",
       "</div>"
      ],
      "text/plain": [
       "          a  a ban  a ban on  a barrel  a better  a bid  a bid to  a big  \\\n",
       "0  0.040581    0.0       0.0       0.0       0.0    0.0       0.0    0.0   \n",
       "1  0.035174    0.0       0.0       0.0       0.0    0.0       0.0    0.0   \n",
       "2  0.037232    0.0       0.0       0.0       0.0    0.0       0.0    0.0   \n",
       "3  0.043355    0.0       0.0       0.0       0.0    0.0       0.0    0.0   \n",
       "4  0.042192    0.0       0.0       0.0       0.0    0.0       0.0    0.0   \n",
       "\n",
       "   a bill  a billion  ...  zealands  zero  zetas  zika  zika virus  zimbabwe  \\\n",
       "0     0.0   0.000000  ...       0.0   0.0    0.0   0.0         0.0       0.0   \n",
       "1     0.0   0.000000  ...       0.0   0.0    0.0   0.0         0.0       0.0   \n",
       "2     0.0   0.000000  ...       0.0   0.0    0.0   0.0         0.0       0.0   \n",
       "3     0.0   0.068194  ...       0.0   0.0    0.0   0.0         0.0       0.0   \n",
       "4     0.0   0.000000  ...       0.0   0.0    0.0   0.0         0.0       0.0   \n",
       "\n",
       "   zimbabwes      zone  zones  zoo  \n",
       "0        0.0  0.000000    0.0  0.0  \n",
       "1        0.0  0.000000    0.0  0.0  \n",
       "2        0.0  0.000000    0.0  0.0  \n",
       "3        0.0  0.000000    0.0  0.0  \n",
       "4        0.0  0.046705    0.0  0.0  \n",
       "\n",
       "[5 rows x 10000 columns]"
      ]
     },
     "execution_count": 36,
     "metadata": {},
     "output_type": "execute_result"
    }
   ],
   "source": [
    "sampled_df = pd.DataFrame(X_sampled.toarray(), columns=list(tv.get_feature_names()))\n",
    "sampled_df.head()"
   ]
  },
  {
   "cell_type": "code",
   "execution_count": 37,
   "metadata": {},
   "outputs": [
    {
     "data": {
      "text/plain": [
       "40"
      ]
     },
     "execution_count": 37,
     "metadata": {},
     "output_type": "execute_result"
    }
   ],
   "source": [
    "max(len(y_test[y_test == 1]),len(y_test[y_test == -1]))*2"
   ]
  },
  {
   "cell_type": "code",
   "execution_count": 38,
   "metadata": {},
   "outputs": [],
   "source": [
    "model = LogisticRegression(solver='liblinear', multi_class='auto')\n",
    "model = model.fit(sampled_df, y_sampled)"
   ]
  },
  {
   "cell_type": "code",
   "execution_count": 39,
   "metadata": {},
   "outputs": [],
   "source": [
    "test_features = tv.transform(X_test['Combined'])\n",
    "predictions = model.predict(test_features)"
   ]
  },
  {
   "cell_type": "code",
   "execution_count": 40,
   "metadata": {},
   "outputs": [
    {
     "name": "stdout",
     "output_type": "stream",
     "text": [
      "{'Name': 'ALL', 'Accuracy': 0.3382352941176471, 'Precision': 0.10086191087474784, 'Recall': 0.4, 'F1': 0.14632426397132278, 'Cappa': 0.0}\n"
     ]
    }
   ],
   "source": [
    "score = score_test('ALL', y_test, predictions)\n",
    "print(score)"
   ]
  },
  {
   "cell_type": "code",
   "execution_count": 41,
   "metadata": {},
   "outputs": [
    {
     "data": {
      "text/html": [
       "<div>\n",
       "<style scoped>\n",
       "    .dataframe tbody tr th:only-of-type {\n",
       "        vertical-align: middle;\n",
       "    }\n",
       "\n",
       "    .dataframe tbody tr th {\n",
       "        vertical-align: top;\n",
       "    }\n",
       "\n",
       "    .dataframe thead th {\n",
       "        text-align: right;\n",
       "    }\n",
       "</style>\n",
       "<table border=\"1\" class=\"dataframe\">\n",
       "  <thead>\n",
       "    <tr style=\"text-align: right;\">\n",
       "      <th>Predicted</th>\n",
       "      <th>-1</th>\n",
       "      <th>0</th>\n",
       "      <th>1</th>\n",
       "    </tr>\n",
       "    <tr>\n",
       "      <th>Actual</th>\n",
       "      <th></th>\n",
       "      <th></th>\n",
       "      <th></th>\n",
       "    </tr>\n",
       "  </thead>\n",
       "  <tbody>\n",
       "    <tr>\n",
       "      <th>-1</th>\n",
       "      <td>12</td>\n",
       "      <td>6</td>\n",
       "      <td>2</td>\n",
       "    </tr>\n",
       "    <tr>\n",
       "      <th>0</th>\n",
       "      <td>99</td>\n",
       "      <td>55</td>\n",
       "      <td>15</td>\n",
       "    </tr>\n",
       "    <tr>\n",
       "      <th>1</th>\n",
       "      <td>12</td>\n",
       "      <td>1</td>\n",
       "      <td>2</td>\n",
       "    </tr>\n",
       "  </tbody>\n",
       "</table>\n",
       "</div>"
      ],
      "text/plain": [
       "Predicted  -1   0   1\n",
       "Actual               \n",
       "-1         12   6   2\n",
       " 0         99  55  15\n",
       " 1         12   1   2"
      ]
     },
     "execution_count": 41,
     "metadata": {},
     "output_type": "execute_result"
    }
   ],
   "source": [
    "pd.crosstab(y_test, predictions, rownames=[\"Actual\"], colnames=[\"Predicted\"])"
   ]
  },
  {
   "cell_type": "code",
   "execution_count": 42,
   "metadata": {},
   "outputs": [
    {
     "data": {
      "text/plain": [
       "[{'Label': 'ALL',\n",
       "  'Good/Bad': 'Good',\n",
       "  'Buy': 2,\n",
       "  'Sell': 12,\n",
       "  'Hold': 55,\n",
       "  'Miss': 0,\n",
       "  'Total': 69},\n",
       " {'Label': 'ALL',\n",
       "  'Good/Bad': 'Bad',\n",
       "  'Buy': 2,\n",
       "  'Sell': 12,\n",
       "  'Hold': 7,\n",
       "  'Miss': 114,\n",
       "  'Total': 169},\n",
       " {'Label': 'ALL Total',\n",
       "  'Good/Bad': '',\n",
       "  'Buy': 4,\n",
       "  'Sell': 24,\n",
       "  'Hold': 62,\n",
       "  'Miss': 114,\n",
       "  'Total': 238},\n",
       " {'Label': 'ALL %',\n",
       "  'Good/Bad': 'True%',\n",
       "  'Buy': 50.0,\n",
       "  'Sell': 50.0,\n",
       "  'Hold': 89.0,\n",
       "  'Miss': 184.0,\n",
       "  'Total': 29.0}]"
      ]
     },
     "execution_count": 42,
     "metadata": {},
     "output_type": "execute_result"
    }
   ],
   "source": [
    "calc_true_score('ALL', y_test, predictions)"
   ]
  },
  {
   "cell_type": "markdown",
   "metadata": {},
   "source": [
    "### 1.7.2 Run against all data first"
   ]
  },
  {
   "cell_type": "code",
   "execution_count": 43,
   "metadata": {},
   "outputs": [
    {
     "name": "stdout",
     "output_type": "stream",
     "text": [
      "(1227, 10000)\n"
     ]
    },
    {
     "data": {
      "text/html": [
       "<div>\n",
       "<style scoped>\n",
       "    .dataframe tbody tr th:only-of-type {\n",
       "        vertical-align: middle;\n",
       "    }\n",
       "\n",
       "    .dataframe tbody tr th {\n",
       "        vertical-align: top;\n",
       "    }\n",
       "\n",
       "    .dataframe thead th {\n",
       "        text-align: right;\n",
       "    }\n",
       "</style>\n",
       "<table border=\"1\" class=\"dataframe\">\n",
       "  <thead>\n",
       "    <tr style=\"text-align: right;\">\n",
       "      <th></th>\n",
       "      <th>a</th>\n",
       "      <th>a ban</th>\n",
       "      <th>a ban on</th>\n",
       "      <th>a barrel</th>\n",
       "      <th>a better</th>\n",
       "      <th>a bid</th>\n",
       "      <th>a bid to</th>\n",
       "      <th>a big</th>\n",
       "      <th>a bill</th>\n",
       "      <th>a billion</th>\n",
       "      <th>...</th>\n",
       "      <th>zealands</th>\n",
       "      <th>zero</th>\n",
       "      <th>zetas</th>\n",
       "      <th>zika</th>\n",
       "      <th>zika virus</th>\n",
       "      <th>zimbabwe</th>\n",
       "      <th>zimbabwes</th>\n",
       "      <th>zone</th>\n",
       "      <th>zones</th>\n",
       "      <th>zoo</th>\n",
       "    </tr>\n",
       "  </thead>\n",
       "  <tbody>\n",
       "    <tr>\n",
       "      <th>0</th>\n",
       "      <td>0.042284</td>\n",
       "      <td>0.0</td>\n",
       "      <td>0.0</td>\n",
       "      <td>0.0</td>\n",
       "      <td>0.0</td>\n",
       "      <td>0.0</td>\n",
       "      <td>0.0</td>\n",
       "      <td>0.000000</td>\n",
       "      <td>0.000000</td>\n",
       "      <td>0.0</td>\n",
       "      <td>...</td>\n",
       "      <td>0.0</td>\n",
       "      <td>0.0</td>\n",
       "      <td>0.0</td>\n",
       "      <td>0.0</td>\n",
       "      <td>0.0</td>\n",
       "      <td>0.0</td>\n",
       "      <td>0.0</td>\n",
       "      <td>0.0</td>\n",
       "      <td>0.0</td>\n",
       "      <td>0.0</td>\n",
       "    </tr>\n",
       "    <tr>\n",
       "      <th>1</th>\n",
       "      <td>0.036619</td>\n",
       "      <td>0.0</td>\n",
       "      <td>0.0</td>\n",
       "      <td>0.0</td>\n",
       "      <td>0.0</td>\n",
       "      <td>0.0</td>\n",
       "      <td>0.0</td>\n",
       "      <td>0.000000</td>\n",
       "      <td>0.000000</td>\n",
       "      <td>0.0</td>\n",
       "      <td>...</td>\n",
       "      <td>0.0</td>\n",
       "      <td>0.0</td>\n",
       "      <td>0.0</td>\n",
       "      <td>0.0</td>\n",
       "      <td>0.0</td>\n",
       "      <td>0.0</td>\n",
       "      <td>0.0</td>\n",
       "      <td>0.0</td>\n",
       "      <td>0.0</td>\n",
       "      <td>0.0</td>\n",
       "    </tr>\n",
       "    <tr>\n",
       "      <th>2</th>\n",
       "      <td>0.041837</td>\n",
       "      <td>0.0</td>\n",
       "      <td>0.0</td>\n",
       "      <td>0.0</td>\n",
       "      <td>0.0</td>\n",
       "      <td>0.0</td>\n",
       "      <td>0.0</td>\n",
       "      <td>0.058853</td>\n",
       "      <td>0.057116</td>\n",
       "      <td>0.0</td>\n",
       "      <td>...</td>\n",
       "      <td>0.0</td>\n",
       "      <td>0.0</td>\n",
       "      <td>0.0</td>\n",
       "      <td>0.0</td>\n",
       "      <td>0.0</td>\n",
       "      <td>0.0</td>\n",
       "      <td>0.0</td>\n",
       "      <td>0.0</td>\n",
       "      <td>0.0</td>\n",
       "      <td>0.0</td>\n",
       "    </tr>\n",
       "    <tr>\n",
       "      <th>3</th>\n",
       "      <td>0.042528</td>\n",
       "      <td>0.0</td>\n",
       "      <td>0.0</td>\n",
       "      <td>0.0</td>\n",
       "      <td>0.0</td>\n",
       "      <td>0.0</td>\n",
       "      <td>0.0</td>\n",
       "      <td>0.000000</td>\n",
       "      <td>0.000000</td>\n",
       "      <td>0.0</td>\n",
       "      <td>...</td>\n",
       "      <td>0.0</td>\n",
       "      <td>0.0</td>\n",
       "      <td>0.0</td>\n",
       "      <td>0.0</td>\n",
       "      <td>0.0</td>\n",
       "      <td>0.0</td>\n",
       "      <td>0.0</td>\n",
       "      <td>0.0</td>\n",
       "      <td>0.0</td>\n",
       "      <td>0.0</td>\n",
       "    </tr>\n",
       "    <tr>\n",
       "      <th>4</th>\n",
       "      <td>0.045286</td>\n",
       "      <td>0.0</td>\n",
       "      <td>0.0</td>\n",
       "      <td>0.0</td>\n",
       "      <td>0.0</td>\n",
       "      <td>0.0</td>\n",
       "      <td>0.0</td>\n",
       "      <td>0.000000</td>\n",
       "      <td>0.000000</td>\n",
       "      <td>0.0</td>\n",
       "      <td>...</td>\n",
       "      <td>0.0</td>\n",
       "      <td>0.0</td>\n",
       "      <td>0.0</td>\n",
       "      <td>0.0</td>\n",
       "      <td>0.0</td>\n",
       "      <td>0.0</td>\n",
       "      <td>0.0</td>\n",
       "      <td>0.0</td>\n",
       "      <td>0.0</td>\n",
       "      <td>0.0</td>\n",
       "    </tr>\n",
       "  </tbody>\n",
       "</table>\n",
       "<p>5 rows × 10000 columns</p>\n",
       "</div>"
      ],
      "text/plain": [
       "          a  a ban  a ban on  a barrel  a better  a bid  a bid to     a big  \\\n",
       "0  0.042284    0.0       0.0       0.0       0.0    0.0       0.0  0.000000   \n",
       "1  0.036619    0.0       0.0       0.0       0.0    0.0       0.0  0.000000   \n",
       "2  0.041837    0.0       0.0       0.0       0.0    0.0       0.0  0.058853   \n",
       "3  0.042528    0.0       0.0       0.0       0.0    0.0       0.0  0.000000   \n",
       "4  0.045286    0.0       0.0       0.0       0.0    0.0       0.0  0.000000   \n",
       "\n",
       "     a bill  a billion  ...  zealands  zero  zetas  zika  zika virus  \\\n",
       "0  0.000000        0.0  ...       0.0   0.0    0.0   0.0         0.0   \n",
       "1  0.000000        0.0  ...       0.0   0.0    0.0   0.0         0.0   \n",
       "2  0.057116        0.0  ...       0.0   0.0    0.0   0.0         0.0   \n",
       "3  0.000000        0.0  ...       0.0   0.0    0.0   0.0         0.0   \n",
       "4  0.000000        0.0  ...       0.0   0.0    0.0   0.0         0.0   \n",
       "\n",
       "   zimbabwe  zimbabwes  zone  zones  zoo  \n",
       "0       0.0        0.0   0.0    0.0  0.0  \n",
       "1       0.0        0.0   0.0    0.0  0.0  \n",
       "2       0.0        0.0   0.0    0.0  0.0  \n",
       "3       0.0        0.0   0.0    0.0  0.0  \n",
       "4       0.0        0.0   0.0    0.0  0.0  \n",
       "\n",
       "[5 rows x 10000 columns]"
      ]
     },
     "execution_count": 43,
     "metadata": {},
     "output_type": "execute_result"
    }
   ],
   "source": [
    "vector = tv\n",
    "model = LogisticRegression(solver='liblinear', multi_class='auto')\n",
    "# cv_train_features = get_bag_of_words(cv, X_train)\n",
    "vector.fit(X['Combined'].dropna().values.flatten())\n",
    "train_features = vector.transform(X_train['Combined'].dropna().values.flatten())\n",
    "train_df = pd.DataFrame(train_features.toarray(), columns=list(vector.get_feature_names()))\n",
    "model = model.fit(train_df, y_train)\n",
    "print(train_df.shape)\n",
    "train_df.head()"
   ]
  },
  {
   "cell_type": "code",
   "execution_count": 44,
   "metadata": {},
   "outputs": [],
   "source": [
    "test_features = vector.transform(X_test['Combined'].dropna().values.flatten())\n",
    "predictions = model.predict(test_features)"
   ]
  },
  {
   "cell_type": "code",
   "execution_count": 45,
   "metadata": {},
   "outputs": [
    {
     "name": "stderr",
     "output_type": "stream",
     "text": [
      "C:\\Users\\salfl\\.conda\\envs\\ml\\lib\\site-packages\\sklearn\\metrics\\classification.py:1437: UndefinedMetricWarning: Precision is ill-defined and being set to 0.0 in labels with no predicted samples.\n",
      "  'precision', 'predicted', average, warn_for)\n",
      "C:\\Users\\salfl\\.conda\\envs\\ml\\lib\\site-packages\\sklearn\\metrics\\classification.py:1437: UndefinedMetricWarning: F-score is ill-defined and being set to 0.0 in labels with no predicted samples.\n",
      "  'precision', 'predicted', average, warn_for)\n",
      "C:\\Users\\salfl\\.conda\\envs\\ml\\lib\\site-packages\\sklearn\\metrics\\classification.py:561: RuntimeWarning: invalid value encountered in true_divide\n",
      "  expected = np.outer(sum0, sum1) / np.sum(sum0)\n"
     ]
    },
    {
     "data": {
      "text/html": [
       "<div>\n",
       "<style scoped>\n",
       "    .dataframe tbody tr th:only-of-type {\n",
       "        vertical-align: middle;\n",
       "    }\n",
       "\n",
       "    .dataframe tbody tr th {\n",
       "        vertical-align: top;\n",
       "    }\n",
       "\n",
       "    .dataframe thead th {\n",
       "        text-align: right;\n",
       "    }\n",
       "</style>\n",
       "<table border=\"1\" class=\"dataframe\">\n",
       "  <thead>\n",
       "    <tr style=\"text-align: right;\">\n",
       "      <th></th>\n",
       "      <th>Name</th>\n",
       "      <th>Accuracy</th>\n",
       "      <th>Precision</th>\n",
       "      <th>Recall</th>\n",
       "      <th>F1</th>\n",
       "      <th>Cappa</th>\n",
       "    </tr>\n",
       "  </thead>\n",
       "  <tbody>\n",
       "    <tr>\n",
       "      <th>0</th>\n",
       "      <td>ALL</td>\n",
       "      <td>0.828431</td>\n",
       "      <td>0.0</td>\n",
       "      <td>0.0</td>\n",
       "      <td>0.0</td>\n",
       "      <td>NaN</td>\n",
       "    </tr>\n",
       "  </tbody>\n",
       "</table>\n",
       "</div>"
      ],
      "text/plain": [
       "  Name  Accuracy  Precision  Recall   F1  Cappa\n",
       "0  ALL  0.828431        0.0     0.0  0.0    NaN"
      ]
     },
     "execution_count": 45,
     "metadata": {},
     "output_type": "execute_result"
    }
   ],
   "source": [
    "score_df = pd.DataFrame(columns=['Name', 'Accuracy','Precision','Recall','F1','Cappa'])\n",
    "conf_df = pd.DataFrame(columns=['Label', 'Good/Bad','Buy','Sell','Hold','Miss','Total'])\n",
    "score = score_test('ALL', y_test, predictions)\n",
    "score_df = score_df.append(score , ignore_index=True)\n",
    "conf_df = conf_df.append(calc_true_score('ALL', y_test, predictions))\n",
    "score_df"
   ]
  },
  {
   "cell_type": "code",
   "execution_count": 46,
   "metadata": {},
   "outputs": [
    {
     "data": {
      "text/html": [
       "<div>\n",
       "<style scoped>\n",
       "    .dataframe tbody tr th:only-of-type {\n",
       "        vertical-align: middle;\n",
       "    }\n",
       "\n",
       "    .dataframe tbody tr th {\n",
       "        vertical-align: top;\n",
       "    }\n",
       "\n",
       "    .dataframe thead th {\n",
       "        text-align: right;\n",
       "    }\n",
       "</style>\n",
       "<table border=\"1\" class=\"dataframe\">\n",
       "  <thead>\n",
       "    <tr style=\"text-align: right;\">\n",
       "      <th></th>\n",
       "      <th>Label</th>\n",
       "      <th>Good/Bad</th>\n",
       "      <th>Buy</th>\n",
       "      <th>Sell</th>\n",
       "      <th>Hold</th>\n",
       "      <th>Miss</th>\n",
       "      <th>Total</th>\n",
       "    </tr>\n",
       "  </thead>\n",
       "  <tbody>\n",
       "    <tr>\n",
       "      <th>3</th>\n",
       "      <td>ALL %</td>\n",
       "      <td>True%</td>\n",
       "      <td>0</td>\n",
       "      <td>0</td>\n",
       "      <td>83.0</td>\n",
       "      <td>0.0</td>\n",
       "      <td>50.0</td>\n",
       "    </tr>\n",
       "  </tbody>\n",
       "</table>\n",
       "</div>"
      ],
      "text/plain": [
       "   Label Good/Bad Buy Sell  Hold  Miss  Total\n",
       "3  ALL %    True%   0    0  83.0   0.0   50.0"
      ]
     },
     "execution_count": 46,
     "metadata": {},
     "output_type": "execute_result"
    }
   ],
   "source": [
    "conf_df[conf_df['Good/Bad'] == 'True%']"
   ]
  },
  {
   "cell_type": "markdown",
   "metadata": {},
   "source": [
    "#### 1.7.2 Define sampler method that will be used to compare samplers"
   ]
  },
  {
   "cell_type": "code",
   "execution_count": 47,
   "metadata": {},
   "outputs": [],
   "source": [
    "# only sample majority\n",
    "sampling_strategy='majority'\n",
    "\n",
    "samplers = []\n",
    "# samplers.append(('ENN', EditedNearestNeighbours(sampling_strategy))) \n",
    "# samplers.append(('KNN', AllKNN(sampling_strategy))) \n",
    "# samplers.append(('OneSide', OneSidedSelection(sampling_strategy))) \n",
    "# samplers.append(('Tomek', TomekLinks(sampling_strategy))) \n",
    "samplers.append(('Miss', NearMiss(sampling_strategy))) \n",
    "samplers.append(('RND', RandomUnderSampler(sampling_strategy))) \n",
    "samplers.append(('CC', ClusterCentroids(sampling_strategy))) "
   ]
  },
  {
   "cell_type": "markdown",
   "metadata": {},
   "source": [
    "#### First run against entire dataset and then compare against undersampling algorithms"
   ]
  },
  {
   "cell_type": "markdown",
   "metadata": {},
   "source": [
    "#### Run undersampling algorithms"
   ]
  },
  {
   "cell_type": "code",
   "execution_count": 48,
   "metadata": {},
   "outputs": [],
   "source": [
    "score_df = pd.DataFrame(columns=['Name', 'Accuracy','Precision','Recall','F1','Cappa'])\n",
    "conf_df = pd.DataFrame(columns=['Label', 'Good/Bad','Buy','Sell','Hold','Miss','Total'])\n",
    "\n",
    "test_features = vector.transform(X_test['Combined'].dropna().values.flatten())\n",
    "for name, sampler in samplers:\n",
    "    X_sampled, y_sampled = sampler.fit_sample(train_features, y_train)\n",
    "    model = model.fit(X_sampled.toarray(), y_sampled)\n",
    "    predictions = model.predict(test_features)\n",
    "    score = score_test(name, y_test, predictions)\n",
    "    score_df = score_df.append(score , ignore_index=True)\n",
    "    conf_df = conf_df.append(calc_true_score(name, y_test, predictions))"
   ]
  },
  {
   "cell_type": "code",
   "execution_count": 49,
   "metadata": {},
   "outputs": [
    {
     "data": {
      "text/html": [
       "<div>\n",
       "<style scoped>\n",
       "    .dataframe tbody tr th:only-of-type {\n",
       "        vertical-align: middle;\n",
       "    }\n",
       "\n",
       "    .dataframe tbody tr th {\n",
       "        vertical-align: top;\n",
       "    }\n",
       "\n",
       "    .dataframe thead th {\n",
       "        text-align: right;\n",
       "    }\n",
       "</style>\n",
       "<table border=\"1\" class=\"dataframe\">\n",
       "  <thead>\n",
       "    <tr style=\"text-align: right;\">\n",
       "      <th></th>\n",
       "      <th>Name</th>\n",
       "      <th>Accuracy</th>\n",
       "      <th>Precision</th>\n",
       "      <th>Recall</th>\n",
       "      <th>F1</th>\n",
       "      <th>Cappa</th>\n",
       "    </tr>\n",
       "  </thead>\n",
       "  <tbody>\n",
       "    <tr>\n",
       "      <th>0</th>\n",
       "      <td>Miss</td>\n",
       "      <td>0.112745</td>\n",
       "      <td>0.096957</td>\n",
       "      <td>0.542857</td>\n",
       "      <td>0.153893</td>\n",
       "      <td>0.044944</td>\n",
       "    </tr>\n",
       "    <tr>\n",
       "      <th>1</th>\n",
       "      <td>RND</td>\n",
       "      <td>0.534314</td>\n",
       "      <td>0.067227</td>\n",
       "      <td>0.228571</td>\n",
       "      <td>0.103896</td>\n",
       "      <td>-0.226415</td>\n",
       "    </tr>\n",
       "    <tr>\n",
       "      <th>2</th>\n",
       "      <td>CC</td>\n",
       "      <td>0.416667</td>\n",
       "      <td>0.127799</td>\n",
       "      <td>0.428571</td>\n",
       "      <td>0.182927</td>\n",
       "      <td>0.107143</td>\n",
       "    </tr>\n",
       "  </tbody>\n",
       "</table>\n",
       "</div>"
      ],
      "text/plain": [
       "   Name  Accuracy  Precision    Recall        F1     Cappa\n",
       "0  Miss  0.112745   0.096957  0.542857  0.153893  0.044944\n",
       "1   RND  0.534314   0.067227  0.228571  0.103896 -0.226415\n",
       "2    CC  0.416667   0.127799  0.428571  0.182927  0.107143"
      ]
     },
     "execution_count": 49,
     "metadata": {},
     "output_type": "execute_result"
    }
   ],
   "source": [
    "score_df"
   ]
  },
  {
   "cell_type": "code",
   "execution_count": 50,
   "metadata": {},
   "outputs": [
    {
     "data": {
      "text/html": [
       "<div>\n",
       "<style scoped>\n",
       "    .dataframe tbody tr th:only-of-type {\n",
       "        vertical-align: middle;\n",
       "    }\n",
       "\n",
       "    .dataframe tbody tr th {\n",
       "        vertical-align: top;\n",
       "    }\n",
       "\n",
       "    .dataframe thead th {\n",
       "        text-align: right;\n",
       "    }\n",
       "</style>\n",
       "<table border=\"1\" class=\"dataframe\">\n",
       "  <thead>\n",
       "    <tr style=\"text-align: right;\">\n",
       "      <th></th>\n",
       "      <th>Label</th>\n",
       "      <th>Good/Bad</th>\n",
       "      <th>Buy</th>\n",
       "      <th>Sell</th>\n",
       "      <th>Hold</th>\n",
       "      <th>Miss</th>\n",
       "      <th>Total</th>\n",
       "    </tr>\n",
       "  </thead>\n",
       "  <tbody>\n",
       "    <tr>\n",
       "      <th>3</th>\n",
       "      <td>Miss %</td>\n",
       "      <td>True%</td>\n",
       "      <td>50.0</td>\n",
       "      <td>57.0</td>\n",
       "      <td>80.0</td>\n",
       "      <td>3300.0</td>\n",
       "      <td>12.0</td>\n",
       "    </tr>\n",
       "    <tr>\n",
       "      <th>3</th>\n",
       "      <td>RND %</td>\n",
       "      <td>True%</td>\n",
       "      <td>0.0</td>\n",
       "      <td>73.0</td>\n",
       "      <td>82.0</td>\n",
       "      <td>55.0</td>\n",
       "      <td>39.0</td>\n",
       "    </tr>\n",
       "    <tr>\n",
       "      <th>3</th>\n",
       "      <td>CC %</td>\n",
       "      <td>True%</td>\n",
       "      <td>50.0</td>\n",
       "      <td>63.0</td>\n",
       "      <td>88.0</td>\n",
       "      <td>124.0</td>\n",
       "      <td>33.0</td>\n",
       "    </tr>\n",
       "  </tbody>\n",
       "</table>\n",
       "</div>"
      ],
      "text/plain": [
       "    Label Good/Bad   Buy  Sell  Hold    Miss  Total\n",
       "3  Miss %    True%  50.0  57.0  80.0  3300.0   12.0\n",
       "3   RND %    True%   0.0  73.0  82.0    55.0   39.0\n",
       "3    CC %    True%  50.0  63.0  88.0   124.0   33.0"
      ]
     },
     "execution_count": 50,
     "metadata": {},
     "output_type": "execute_result"
    }
   ],
   "source": [
    "conf_df[conf_df['Good/Bad'] == 'True%']"
   ]
  },
  {
   "cell_type": "markdown",
   "metadata": {},
   "source": [
    "#### Random and Cluster Centroid both had similar values but getting random values had a better precision value.  NearMiss was lower in accuracy but was better at being precise.  Could use Near Miss or random but at this point there is no stark difference in the undersampling algorithms"
   ]
  },
  {
   "cell_type": "markdown",
   "metadata": {},
   "source": [
    "## 1.8 Analyze Model Algorithms for Baseline"
   ]
  },
  {
   "cell_type": "markdown",
   "metadata": {},
   "source": [
    "#### Utilize random undersampling and then focus on model algorithms"
   ]
  },
  {
   "cell_type": "code",
   "execution_count": 51,
   "metadata": {},
   "outputs": [
    {
     "data": {
      "text/plain": [
       "(1227, 10000)"
      ]
     },
     "execution_count": 51,
     "metadata": {},
     "output_type": "execute_result"
    }
   ],
   "source": [
    "tv.fit(X['Combined'].dropna().values.flatten())\n",
    "train_features = tv.transform(X_train['Combined'].dropna().values.flatten())\n",
    "test_features = tv.transform(X_test['Combined'].dropna().values.flatten())\n",
    "train_features.shape"
   ]
  },
  {
   "cell_type": "code",
   "execution_count": 52,
   "metadata": {},
   "outputs": [],
   "source": [
    "sampler = RandomUnderSampler(sampling_strategy='majority')\n",
    "X_sampled, y_sampled = sampler.fit_sample(train_features, y_train)"
   ]
  },
  {
   "cell_type": "code",
   "execution_count": 53,
   "metadata": {},
   "outputs": [],
   "source": [
    "models = []\n",
    "models.append(('LR', LogisticRegression(solver='liblinear', multi_class='auto')))\n",
    "models.append(('LDA', LinearDiscriminantAnalysis()))\n",
    "# models.append(('LDA-s', LinearDiscriminantAnalysis(solver='lsqr',shrinkage='auto')))\n",
    "# models.append(('KNN', NeighborhoodComponentsAnalysis())) # out of memory\n",
    "models.append(('CART', DecisionTreeClassifier()))\n",
    "models.append(('NB', MultinomialNB()))\n",
    "models.append(('LGB', LGBMClassifier()))\n",
    "models.append(('SVC', SVC(gamma='scale')))\n",
    "models.append(('RFC', RandomForestClassifier(n_estimators=100, max_depth=2)))"
   ]
  },
  {
   "cell_type": "code",
   "execution_count": 54,
   "metadata": {},
   "outputs": [
    {
     "name": "stdout",
     "output_type": "stream",
     "text": [
      "LR\n",
      "LDA\n"
     ]
    },
    {
     "name": "stderr",
     "output_type": "stream",
     "text": [
      "C:\\Users\\salfl\\.conda\\envs\\ml\\lib\\site-packages\\sklearn\\discriminant_analysis.py:388: UserWarning: Variables are collinear.\n",
      "  warnings.warn(\"Variables are collinear.\")\n"
     ]
    },
    {
     "name": "stdout",
     "output_type": "stream",
     "text": [
      "CART\n",
      "NB\n",
      "LGB\n",
      "SVC\n",
      "RFC\n"
     ]
    },
    {
     "name": "stderr",
     "output_type": "stream",
     "text": [
      "C:\\Users\\salfl\\.conda\\envs\\ml\\lib\\site-packages\\sklearn\\metrics\\classification.py:1437: UndefinedMetricWarning: Precision is ill-defined and being set to 0.0 in labels with no predicted samples.\n",
      "  'precision', 'predicted', average, warn_for)\n",
      "C:\\Users\\salfl\\.conda\\envs\\ml\\lib\\site-packages\\sklearn\\metrics\\classification.py:1437: UndefinedMetricWarning: F-score is ill-defined and being set to 0.0 in labels with no predicted samples.\n",
      "  'precision', 'predicted', average, warn_for)\n"
     ]
    }
   ],
   "source": [
    "score_df = pd.DataFrame(columns=['Name', 'Accuracy','Precision','Recall','F1','Cappa'])\n",
    "conf_df = pd.DataFrame(columns=['Label', 'Good/Bad','Buy','Sell','Hold','Miss','Total'])\n",
    "\n",
    "for name, model in models:\n",
    "    print(name)\n",
    "    model = model.fit(X_sampled.toarray(), y_sampled)\n",
    "    predictions = model.predict(test_features.toarray())\n",
    "    \n",
    "    score = score_test(name, y_test, predictions)\n",
    "    score_df = score_df.append(score, ignore_index=True)\n",
    "    conf_df = conf_df.append(calc_true_score(name, y_test, predictions))"
   ]
  },
  {
   "cell_type": "code",
   "execution_count": 55,
   "metadata": {},
   "outputs": [
    {
     "data": {
      "text/html": [
       "<div>\n",
       "<style scoped>\n",
       "    .dataframe tbody tr th:only-of-type {\n",
       "        vertical-align: middle;\n",
       "    }\n",
       "\n",
       "    .dataframe tbody tr th {\n",
       "        vertical-align: top;\n",
       "    }\n",
       "\n",
       "    .dataframe thead th {\n",
       "        text-align: right;\n",
       "    }\n",
       "</style>\n",
       "<table border=\"1\" class=\"dataframe\">\n",
       "  <thead>\n",
       "    <tr style=\"text-align: right;\">\n",
       "      <th></th>\n",
       "      <th>Name</th>\n",
       "      <th>Accuracy</th>\n",
       "      <th>Precision</th>\n",
       "      <th>Recall</th>\n",
       "      <th>F1</th>\n",
       "      <th>Cappa</th>\n",
       "    </tr>\n",
       "  </thead>\n",
       "  <tbody>\n",
       "    <tr>\n",
       "      <th>0</th>\n",
       "      <td>LR</td>\n",
       "      <td>0.421569</td>\n",
       "      <td>0.131755</td>\n",
       "      <td>0.428571</td>\n",
       "      <td>0.183617</td>\n",
       "      <td>0.000000</td>\n",
       "    </tr>\n",
       "    <tr>\n",
       "      <th>1</th>\n",
       "      <td>LDA</td>\n",
       "      <td>0.357843</td>\n",
       "      <td>0.106732</td>\n",
       "      <td>0.400000</td>\n",
       "      <td>0.152788</td>\n",
       "      <td>0.062500</td>\n",
       "    </tr>\n",
       "    <tr>\n",
       "      <th>2</th>\n",
       "      <td>CART</td>\n",
       "      <td>0.328431</td>\n",
       "      <td>0.072118</td>\n",
       "      <td>0.257143</td>\n",
       "      <td>0.111355</td>\n",
       "      <td>-0.125984</td>\n",
       "    </tr>\n",
       "    <tr>\n",
       "      <th>3</th>\n",
       "      <td>NB</td>\n",
       "      <td>0.245098</td>\n",
       "      <td>0.113912</td>\n",
       "      <td>0.542857</td>\n",
       "      <td>0.165875</td>\n",
       "      <td>0.054545</td>\n",
       "    </tr>\n",
       "    <tr>\n",
       "      <th>4</th>\n",
       "      <td>LGB</td>\n",
       "      <td>0.387255</td>\n",
       "      <td>0.090188</td>\n",
       "      <td>0.314286</td>\n",
       "      <td>0.140113</td>\n",
       "      <td>0.173913</td>\n",
       "    </tr>\n",
       "    <tr>\n",
       "      <th>5</th>\n",
       "      <td>SVC</td>\n",
       "      <td>0.098039</td>\n",
       "      <td>0.056022</td>\n",
       "      <td>0.571429</td>\n",
       "      <td>0.102041</td>\n",
       "      <td>0.000000</td>\n",
       "    </tr>\n",
       "    <tr>\n",
       "      <th>6</th>\n",
       "      <td>RFC</td>\n",
       "      <td>0.460784</td>\n",
       "      <td>0.100186</td>\n",
       "      <td>0.314286</td>\n",
       "      <td>0.145233</td>\n",
       "      <td>0.100000</td>\n",
       "    </tr>\n",
       "  </tbody>\n",
       "</table>\n",
       "</div>"
      ],
      "text/plain": [
       "   Name  Accuracy  Precision    Recall        F1     Cappa\n",
       "0    LR  0.421569   0.131755  0.428571  0.183617  0.000000\n",
       "1   LDA  0.357843   0.106732  0.400000  0.152788  0.062500\n",
       "2  CART  0.328431   0.072118  0.257143  0.111355 -0.125984\n",
       "3    NB  0.245098   0.113912  0.542857  0.165875  0.054545\n",
       "4   LGB  0.387255   0.090188  0.314286  0.140113  0.173913\n",
       "5   SVC  0.098039   0.056022  0.571429  0.102041  0.000000\n",
       "6   RFC  0.460784   0.100186  0.314286  0.145233  0.100000"
      ]
     },
     "execution_count": 55,
     "metadata": {},
     "output_type": "execute_result"
    }
   ],
   "source": [
    "score_df"
   ]
  },
  {
   "cell_type": "code",
   "execution_count": 56,
   "metadata": {},
   "outputs": [],
   "source": [
    "model = XGBClassifier(max_depth=3,objective='multi:softmax', num_class=100,n_gpus=0)\n",
    "model = model.fit(X_sampled.tocsc(), y_sampled)\n",
    "predictions = model.predict(test_features.tocsc())\n",
    "\n",
    "score = score_test('XGB', y_test, predictions)\n",
    "score_df = score_df.append(score, ignore_index=True)\n",
    "conf_df = conf_df.append(calc_true_score('XGB', y_test, predictions))"
   ]
  },
  {
   "cell_type": "code",
   "execution_count": 57,
   "metadata": {},
   "outputs": [
    {
     "data": {
      "text/html": [
       "<div>\n",
       "<style scoped>\n",
       "    .dataframe tbody tr th:only-of-type {\n",
       "        vertical-align: middle;\n",
       "    }\n",
       "\n",
       "    .dataframe tbody tr th {\n",
       "        vertical-align: top;\n",
       "    }\n",
       "\n",
       "    .dataframe thead th {\n",
       "        text-align: right;\n",
       "    }\n",
       "</style>\n",
       "<table border=\"1\" class=\"dataframe\">\n",
       "  <thead>\n",
       "    <tr style=\"text-align: right;\">\n",
       "      <th></th>\n",
       "      <th>Name</th>\n",
       "      <th>Accuracy</th>\n",
       "      <th>Precision</th>\n",
       "      <th>Recall</th>\n",
       "      <th>F1</th>\n",
       "      <th>Cappa</th>\n",
       "    </tr>\n",
       "  </thead>\n",
       "  <tbody>\n",
       "    <tr>\n",
       "      <th>2</th>\n",
       "      <td>CART</td>\n",
       "      <td>0.328431</td>\n",
       "      <td>0.072118</td>\n",
       "      <td>0.257143</td>\n",
       "      <td>0.111355</td>\n",
       "      <td>-0.125984</td>\n",
       "    </tr>\n",
       "    <tr>\n",
       "      <th>7</th>\n",
       "      <td>XGB</td>\n",
       "      <td>0.367647</td>\n",
       "      <td>0.094131</td>\n",
       "      <td>0.342857</td>\n",
       "      <td>0.146900</td>\n",
       "      <td>-0.006192</td>\n",
       "    </tr>\n",
       "    <tr>\n",
       "      <th>0</th>\n",
       "      <td>LR</td>\n",
       "      <td>0.421569</td>\n",
       "      <td>0.131755</td>\n",
       "      <td>0.428571</td>\n",
       "      <td>0.183617</td>\n",
       "      <td>0.000000</td>\n",
       "    </tr>\n",
       "    <tr>\n",
       "      <th>5</th>\n",
       "      <td>SVC</td>\n",
       "      <td>0.098039</td>\n",
       "      <td>0.056022</td>\n",
       "      <td>0.571429</td>\n",
       "      <td>0.102041</td>\n",
       "      <td>0.000000</td>\n",
       "    </tr>\n",
       "    <tr>\n",
       "      <th>3</th>\n",
       "      <td>NB</td>\n",
       "      <td>0.245098</td>\n",
       "      <td>0.113912</td>\n",
       "      <td>0.542857</td>\n",
       "      <td>0.165875</td>\n",
       "      <td>0.054545</td>\n",
       "    </tr>\n",
       "    <tr>\n",
       "      <th>1</th>\n",
       "      <td>LDA</td>\n",
       "      <td>0.357843</td>\n",
       "      <td>0.106732</td>\n",
       "      <td>0.400000</td>\n",
       "      <td>0.152788</td>\n",
       "      <td>0.062500</td>\n",
       "    </tr>\n",
       "    <tr>\n",
       "      <th>6</th>\n",
       "      <td>RFC</td>\n",
       "      <td>0.460784</td>\n",
       "      <td>0.100186</td>\n",
       "      <td>0.314286</td>\n",
       "      <td>0.145233</td>\n",
       "      <td>0.100000</td>\n",
       "    </tr>\n",
       "    <tr>\n",
       "      <th>4</th>\n",
       "      <td>LGB</td>\n",
       "      <td>0.387255</td>\n",
       "      <td>0.090188</td>\n",
       "      <td>0.314286</td>\n",
       "      <td>0.140113</td>\n",
       "      <td>0.173913</td>\n",
       "    </tr>\n",
       "  </tbody>\n",
       "</table>\n",
       "</div>"
      ],
      "text/plain": [
       "   Name  Accuracy  Precision    Recall        F1     Cappa\n",
       "2  CART  0.328431   0.072118  0.257143  0.111355 -0.125984\n",
       "7   XGB  0.367647   0.094131  0.342857  0.146900 -0.006192\n",
       "0    LR  0.421569   0.131755  0.428571  0.183617  0.000000\n",
       "5   SVC  0.098039   0.056022  0.571429  0.102041  0.000000\n",
       "3    NB  0.245098   0.113912  0.542857  0.165875  0.054545\n",
       "1   LDA  0.357843   0.106732  0.400000  0.152788  0.062500\n",
       "6   RFC  0.460784   0.100186  0.314286  0.145233  0.100000\n",
       "4   LGB  0.387255   0.090188  0.314286  0.140113  0.173913"
      ]
     },
     "execution_count": 57,
     "metadata": {},
     "output_type": "execute_result"
    }
   ],
   "source": [
    "score_df.sort_values(by=['Cappa'])"
   ]
  },
  {
   "cell_type": "code",
   "execution_count": 58,
   "metadata": {},
   "outputs": [
    {
     "data": {
      "text/html": [
       "<div>\n",
       "<style scoped>\n",
       "    .dataframe tbody tr th:only-of-type {\n",
       "        vertical-align: middle;\n",
       "    }\n",
       "\n",
       "    .dataframe tbody tr th {\n",
       "        vertical-align: top;\n",
       "    }\n",
       "\n",
       "    .dataframe thead th {\n",
       "        text-align: right;\n",
       "    }\n",
       "</style>\n",
       "<table border=\"1\" class=\"dataframe\">\n",
       "  <thead>\n",
       "    <tr style=\"text-align: right;\">\n",
       "      <th></th>\n",
       "      <th>Label</th>\n",
       "      <th>Good/Bad</th>\n",
       "      <th>Buy</th>\n",
       "      <th>Sell</th>\n",
       "      <th>Hold</th>\n",
       "      <th>Miss</th>\n",
       "      <th>Total</th>\n",
       "    </tr>\n",
       "  </thead>\n",
       "  <tbody>\n",
       "    <tr>\n",
       "      <th>3</th>\n",
       "      <td>LR %</td>\n",
       "      <td>True%</td>\n",
       "      <td>43.0</td>\n",
       "      <td>57.0</td>\n",
       "      <td>91.0</td>\n",
       "      <td>126.0</td>\n",
       "      <td>34.0</td>\n",
       "    </tr>\n",
       "    <tr>\n",
       "      <th>3</th>\n",
       "      <td>LDA %</td>\n",
       "      <td>True%</td>\n",
       "      <td>50.0</td>\n",
       "      <td>60.0</td>\n",
       "      <td>84.0</td>\n",
       "      <td>157.0</td>\n",
       "      <td>30.0</td>\n",
       "    </tr>\n",
       "    <tr>\n",
       "      <th>3</th>\n",
       "      <td>CART %</td>\n",
       "      <td>True%</td>\n",
       "      <td>31.0</td>\n",
       "      <td>56.0</td>\n",
       "      <td>82.0</td>\n",
       "      <td>156.0</td>\n",
       "      <td>28.0</td>\n",
       "    </tr>\n",
       "    <tr>\n",
       "      <th>3</th>\n",
       "      <td>NB %</td>\n",
       "      <td>True%</td>\n",
       "      <td>50.0</td>\n",
       "      <td>61.0</td>\n",
       "      <td>91.0</td>\n",
       "      <td>406.0</td>\n",
       "      <td>23.0</td>\n",
       "    </tr>\n",
       "    <tr>\n",
       "      <th>3</th>\n",
       "      <td>LGB %</td>\n",
       "      <td>True%</td>\n",
       "      <td>54.0</td>\n",
       "      <td>67.0</td>\n",
       "      <td>81.0</td>\n",
       "      <td>120.0</td>\n",
       "      <td>32.0</td>\n",
       "    </tr>\n",
       "    <tr>\n",
       "      <th>3</th>\n",
       "      <td>SVC %</td>\n",
       "      <td>True%</td>\n",
       "      <td>0.0</td>\n",
       "      <td>57.0</td>\n",
       "      <td>0.0</td>\n",
       "      <td>0.0</td>\n",
       "      <td>11.0</td>\n",
       "    </tr>\n",
       "    <tr>\n",
       "      <th>3</th>\n",
       "      <td>RFC %</td>\n",
       "      <td>True%</td>\n",
       "      <td>67.0</td>\n",
       "      <td>53.0</td>\n",
       "      <td>85.0</td>\n",
       "      <td>88.0</td>\n",
       "      <td>36.0</td>\n",
       "    </tr>\n",
       "    <tr>\n",
       "      <th>3</th>\n",
       "      <td>XGB %</td>\n",
       "      <td>True%</td>\n",
       "      <td>36.0</td>\n",
       "      <td>64.0</td>\n",
       "      <td>86.0</td>\n",
       "      <td>145.0</td>\n",
       "      <td>31.0</td>\n",
       "    </tr>\n",
       "  </tbody>\n",
       "</table>\n",
       "</div>"
      ],
      "text/plain": [
       "    Label Good/Bad   Buy  Sell  Hold   Miss  Total\n",
       "3    LR %    True%  43.0  57.0  91.0  126.0   34.0\n",
       "3   LDA %    True%  50.0  60.0  84.0  157.0   30.0\n",
       "3  CART %    True%  31.0  56.0  82.0  156.0   28.0\n",
       "3    NB %    True%  50.0  61.0  91.0  406.0   23.0\n",
       "3   LGB %    True%  54.0  67.0  81.0  120.0   32.0\n",
       "3   SVC %    True%   0.0  57.0   0.0    0.0   11.0\n",
       "3   RFC %    True%  67.0  53.0  85.0   88.0   36.0\n",
       "3   XGB %    True%  36.0  64.0  86.0  145.0   31.0"
      ]
     },
     "execution_count": 58,
     "metadata": {},
     "output_type": "execute_result"
    }
   ],
   "source": [
    "conf_df[conf_df['Good/Bad'] == 'True%']"
   ]
  },
  {
   "cell_type": "markdown",
   "metadata": {},
   "source": [
    "## 1.8.2 Model Selection"
   ]
  },
  {
   "cell_type": "markdown",
   "metadata": {},
   "source": [
    "#### It looks like the decision tree classifier and the Extreme Gradient Boost had the best Cappa scores.  The accuracy and precision were much higher than the other classifiers."
   ]
  },
  {
   "cell_type": "markdown",
   "metadata": {},
   "source": [
    "Will now use the time series to analyze it based on the decion tree classifier"
   ]
  },
  {
   "cell_type": "markdown",
   "metadata": {},
   "source": [
    "# 1.9 Time Series split and print"
   ]
  },
  {
   "cell_type": "code",
   "execution_count": 59,
   "metadata": {},
   "outputs": [],
   "source": [
    "def train_model(model, name, train_x, train_y, test_x):\n",
    "    model.fit(train_x, train_y)\n",
    "    predictions = model.predict(test_x)\n",
    "    score = score_test(name, train_y, predictions)\n",
    "    return score"
   ]
  },
  {
   "cell_type": "code",
   "execution_count": 60,
   "metadata": {},
   "outputs": [],
   "source": [
    "# Setup for further tuning\n",
    "model = DecisionTreeClassifier()"
   ]
  },
  {
   "cell_type": "markdown",
   "metadata": {},
   "source": [
    "### 1.9.1 Split the data"
   ]
  },
  {
   "cell_type": "code",
   "execution_count": 61,
   "metadata": {},
   "outputs": [],
   "source": [
    "train_arr = []\n",
    "test_arr = []\n",
    "tscv = TimeSeriesSplit(n_splits=7)\n",
    "sampler = RandomUnderSampler(sampling_strategy='majority')\n",
    "model = DecisionTreeClassifier()"
   ]
  },
  {
   "cell_type": "code",
   "execution_count": 62,
   "metadata": {},
   "outputs": [],
   "source": [
    "name='DT'\n",
    "score_df = pd.DataFrame(columns=['Name', 'Accuracy','Precision','Recall','F1','Cappa'])\n",
    "conf_df = pd.DataFrame(columns=['Label', 'Good/Bad','Buy','Sell','Hold','Miss','Total'])\n",
    "\n",
    "tv.fit(X['Combined'].dropna().values.flatten())\n",
    "for train_index, test_index in tscv.split(X):\n",
    "    # Split data by train, validation and test.  Use the validation step to tune\n",
    "    X_train, X_val, X_test, y_train, y_val, y_test = get_train_test_val_split(train_index, test_index)\n",
    "    \n",
    "    # Get TF-IDF on all the data\n",
    "    train_features = tv.transform(X_train['Combined'].dropna().values.flatten())\n",
    "    val_features = tv.transform(X_val['Combined'].dropna().values.flatten())\n",
    "    test_features = tv.transform(X_test['Combined'].dropna().values.flatten())\n",
    "    \n",
    "    # Run undersampling algorithm\n",
    "    X_sampled, y_sampled = sampler.fit_sample(train_features, y_train)\n",
    "    \n",
    "    # Run modeling algorithm\n",
    "    model = model.fit(X_sampled.toarray(), y_sampled)\n",
    "    predictions = model.predict(val_features.toarray())\n",
    "    \n",
    "    # Aggregate scores\n",
    "    score = score_test(name+str(train_index[-1]), y_val, predictions)\n",
    "    score_df = score_df.append(score, ignore_index=True)\n",
    "    conf_df = conf_df.append(calc_true_score(name+str(train_index[-1]), y_val, predictions))"
   ]
  },
  {
   "cell_type": "code",
   "execution_count": 63,
   "metadata": {},
   "outputs": [],
   "source": [
    "name='Test'\n",
    "# Run modeling algorithm\n",
    "predictions = model.predict(test_features.toarray())\n",
    "\n",
    "# Aggregate scores\n",
    "score = score_test(name, y_test, predictions)\n",
    "score_df = score_df.append(score, ignore_index=True)\n",
    "conf_df = conf_df.append(calc_true_score(name, y_test, predictions))"
   ]
  },
  {
   "cell_type": "code",
   "execution_count": 64,
   "metadata": {},
   "outputs": [
    {
     "data": {
      "text/html": [
       "<div>\n",
       "<style scoped>\n",
       "    .dataframe tbody tr th:only-of-type {\n",
       "        vertical-align: middle;\n",
       "    }\n",
       "\n",
       "    .dataframe tbody tr th {\n",
       "        vertical-align: top;\n",
       "    }\n",
       "\n",
       "    .dataframe thead th {\n",
       "        text-align: right;\n",
       "    }\n",
       "</style>\n",
       "<table border=\"1\" class=\"dataframe\">\n",
       "  <thead>\n",
       "    <tr style=\"text-align: right;\">\n",
       "      <th></th>\n",
       "      <th>Name</th>\n",
       "      <th>Accuracy</th>\n",
       "      <th>Precision</th>\n",
       "      <th>Recall</th>\n",
       "      <th>F1</th>\n",
       "      <th>Cappa</th>\n",
       "    </tr>\n",
       "  </thead>\n",
       "  <tbody>\n",
       "    <tr>\n",
       "      <th>0</th>\n",
       "      <td>DT207</td>\n",
       "      <td>0.298077</td>\n",
       "      <td>0.094385</td>\n",
       "      <td>0.318182</td>\n",
       "      <td>0.145582</td>\n",
       "      <td>-0.125000</td>\n",
       "    </tr>\n",
       "    <tr>\n",
       "      <th>1</th>\n",
       "      <td>DT411</td>\n",
       "      <td>0.504902</td>\n",
       "      <td>0.087250</td>\n",
       "      <td>0.266667</td>\n",
       "      <td>0.130896</td>\n",
       "      <td>0.269663</td>\n",
       "    </tr>\n",
       "    <tr>\n",
       "      <th>2</th>\n",
       "      <td>DT615</td>\n",
       "      <td>0.284314</td>\n",
       "      <td>0.073790</td>\n",
       "      <td>0.188679</td>\n",
       "      <td>0.103235</td>\n",
       "      <td>-0.409639</td>\n",
       "    </tr>\n",
       "    <tr>\n",
       "      <th>3</th>\n",
       "      <td>DT819</td>\n",
       "      <td>0.372549</td>\n",
       "      <td>0.067187</td>\n",
       "      <td>0.375000</td>\n",
       "      <td>0.112888</td>\n",
       "      <td>-0.125000</td>\n",
       "    </tr>\n",
       "    <tr>\n",
       "      <th>4</th>\n",
       "      <td>DT1023</td>\n",
       "      <td>0.313725</td>\n",
       "      <td>0.038695</td>\n",
       "      <td>0.454545</td>\n",
       "      <td>0.070769</td>\n",
       "      <td>0.100000</td>\n",
       "    </tr>\n",
       "    <tr>\n",
       "      <th>5</th>\n",
       "      <td>DT1227</td>\n",
       "      <td>0.308824</td>\n",
       "      <td>0.058840</td>\n",
       "      <td>0.461538</td>\n",
       "      <td>0.103568</td>\n",
       "      <td>0.384615</td>\n",
       "    </tr>\n",
       "    <tr>\n",
       "      <th>6</th>\n",
       "      <td>DT1431</td>\n",
       "      <td>0.397059</td>\n",
       "      <td>0.104216</td>\n",
       "      <td>0.406250</td>\n",
       "      <td>0.165858</td>\n",
       "      <td>0.243243</td>\n",
       "    </tr>\n",
       "    <tr>\n",
       "      <th>7</th>\n",
       "      <td>Test</td>\n",
       "      <td>0.362745</td>\n",
       "      <td>0.110899</td>\n",
       "      <td>0.400000</td>\n",
       "      <td>0.169388</td>\n",
       "      <td>0.290323</td>\n",
       "    </tr>\n",
       "  </tbody>\n",
       "</table>\n",
       "</div>"
      ],
      "text/plain": [
       "     Name  Accuracy  Precision    Recall        F1     Cappa\n",
       "0   DT207  0.298077   0.094385  0.318182  0.145582 -0.125000\n",
       "1   DT411  0.504902   0.087250  0.266667  0.130896  0.269663\n",
       "2   DT615  0.284314   0.073790  0.188679  0.103235 -0.409639\n",
       "3   DT819  0.372549   0.067187  0.375000  0.112888 -0.125000\n",
       "4  DT1023  0.313725   0.038695  0.454545  0.070769  0.100000\n",
       "5  DT1227  0.308824   0.058840  0.461538  0.103568  0.384615\n",
       "6  DT1431  0.397059   0.104216  0.406250  0.165858  0.243243\n",
       "7    Test  0.362745   0.110899  0.400000  0.169388  0.290323"
      ]
     },
     "execution_count": 64,
     "metadata": {},
     "output_type": "execute_result"
    }
   ],
   "source": [
    "score_df"
   ]
  },
  {
   "cell_type": "code",
   "execution_count": 65,
   "metadata": {},
   "outputs": [
    {
     "data": {
      "text/html": [
       "<div>\n",
       "<style scoped>\n",
       "    .dataframe tbody tr th:only-of-type {\n",
       "        vertical-align: middle;\n",
       "    }\n",
       "\n",
       "    .dataframe tbody tr th {\n",
       "        vertical-align: top;\n",
       "    }\n",
       "\n",
       "    .dataframe thead th {\n",
       "        text-align: right;\n",
       "    }\n",
       "</style>\n",
       "<table border=\"1\" class=\"dataframe\">\n",
       "  <thead>\n",
       "    <tr style=\"text-align: right;\">\n",
       "      <th></th>\n",
       "      <th>Accuracy</th>\n",
       "      <th>Precision</th>\n",
       "      <th>Recall</th>\n",
       "      <th>F1</th>\n",
       "      <th>Cappa</th>\n",
       "    </tr>\n",
       "  </thead>\n",
       "  <tbody>\n",
       "    <tr>\n",
       "      <th>sum</th>\n",
       "      <td>2.842195</td>\n",
       "      <td>0.635262</td>\n",
       "      <td>2.870862</td>\n",
       "      <td>1.002183</td>\n",
       "      <td>0.628206</td>\n",
       "    </tr>\n",
       "    <tr>\n",
       "      <th>mean</th>\n",
       "      <td>0.355274</td>\n",
       "      <td>0.079408</td>\n",
       "      <td>0.358858</td>\n",
       "      <td>0.125273</td>\n",
       "      <td>0.078526</td>\n",
       "    </tr>\n",
       "  </tbody>\n",
       "</table>\n",
       "</div>"
      ],
      "text/plain": [
       "      Accuracy  Precision    Recall        F1     Cappa\n",
       "sum   2.842195   0.635262  2.870862  1.002183  0.628206\n",
       "mean  0.355274   0.079408  0.358858  0.125273  0.078526"
      ]
     },
     "execution_count": 65,
     "metadata": {},
     "output_type": "execute_result"
    }
   ],
   "source": [
    "score_df.iloc[:,1:].agg(['sum', 'mean'])"
   ]
  },
  {
   "cell_type": "code",
   "execution_count": 66,
   "metadata": {},
   "outputs": [
    {
     "data": {
      "text/html": [
       "<div>\n",
       "<style scoped>\n",
       "    .dataframe tbody tr th:only-of-type {\n",
       "        vertical-align: middle;\n",
       "    }\n",
       "\n",
       "    .dataframe tbody tr th {\n",
       "        vertical-align: top;\n",
       "    }\n",
       "\n",
       "    .dataframe thead th {\n",
       "        text-align: right;\n",
       "    }\n",
       "</style>\n",
       "<table border=\"1\" class=\"dataframe\">\n",
       "  <thead>\n",
       "    <tr style=\"text-align: right;\">\n",
       "      <th></th>\n",
       "      <th>Label</th>\n",
       "      <th>Good/Bad</th>\n",
       "      <th>Buy</th>\n",
       "      <th>Sell</th>\n",
       "      <th>Hold</th>\n",
       "      <th>Miss</th>\n",
       "      <th>Total</th>\n",
       "    </tr>\n",
       "  </thead>\n",
       "  <tbody>\n",
       "    <tr>\n",
       "      <th>3</th>\n",
       "      <td>DT207 %</td>\n",
       "      <td>True%</td>\n",
       "      <td>43.0</td>\n",
       "      <td>44.0</td>\n",
       "      <td>80.0</td>\n",
       "      <td>193.0</td>\n",
       "      <td>27.0</td>\n",
       "    </tr>\n",
       "    <tr>\n",
       "      <th>3</th>\n",
       "      <td>DT411 %</td>\n",
       "      <td>True%</td>\n",
       "      <td>50.0</td>\n",
       "      <td>80.0</td>\n",
       "      <td>85.0</td>\n",
       "      <td>71.0</td>\n",
       "      <td>37.0</td>\n",
       "    </tr>\n",
       "    <tr>\n",
       "      <th>3</th>\n",
       "      <td>DT615 %</td>\n",
       "      <td>True%</td>\n",
       "      <td>29.0</td>\n",
       "      <td>27.0</td>\n",
       "      <td>74.0</td>\n",
       "      <td>158.0</td>\n",
       "      <td>28.0</td>\n",
       "    </tr>\n",
       "    <tr>\n",
       "      <th>3</th>\n",
       "      <td>DT819 %</td>\n",
       "      <td>True%</td>\n",
       "      <td>62.0</td>\n",
       "      <td>25.0</td>\n",
       "      <td>95.0</td>\n",
       "      <td>159.0</td>\n",
       "      <td>29.0</td>\n",
       "    </tr>\n",
       "    <tr>\n",
       "      <th>3</th>\n",
       "      <td>DT1023 %</td>\n",
       "      <td>True%</td>\n",
       "      <td>50.0</td>\n",
       "      <td>60.0</td>\n",
       "      <td>97.0</td>\n",
       "      <td>220.0</td>\n",
       "      <td>25.0</td>\n",
       "    </tr>\n",
       "    <tr>\n",
       "      <th>3</th>\n",
       "      <td>DT1227 %</td>\n",
       "      <td>True%</td>\n",
       "      <td>33.0</td>\n",
       "      <td>100.0</td>\n",
       "      <td>92.0</td>\n",
       "      <td>216.0</td>\n",
       "      <td>25.0</td>\n",
       "    </tr>\n",
       "    <tr>\n",
       "      <th>3</th>\n",
       "      <td>DT1431 %</td>\n",
       "      <td>True%</td>\n",
       "      <td>55.0</td>\n",
       "      <td>70.0</td>\n",
       "      <td>86.0</td>\n",
       "      <td>132.0</td>\n",
       "      <td>32.0</td>\n",
       "    </tr>\n",
       "    <tr>\n",
       "      <th>3</th>\n",
       "      <td>Test %</td>\n",
       "      <td>True%</td>\n",
       "      <td>57.0</td>\n",
       "      <td>75.0</td>\n",
       "      <td>82.0</td>\n",
       "      <td>149.0</td>\n",
       "      <td>30.0</td>\n",
       "    </tr>\n",
       "  </tbody>\n",
       "</table>\n",
       "</div>"
      ],
      "text/plain": [
       "      Label Good/Bad   Buy   Sell  Hold   Miss  Total\n",
       "3   DT207 %    True%  43.0   44.0  80.0  193.0   27.0\n",
       "3   DT411 %    True%  50.0   80.0  85.0   71.0   37.0\n",
       "3   DT615 %    True%  29.0   27.0  74.0  158.0   28.0\n",
       "3   DT819 %    True%  62.0   25.0  95.0  159.0   29.0\n",
       "3  DT1023 %    True%  50.0   60.0  97.0  220.0   25.0\n",
       "3  DT1227 %    True%  33.0  100.0  92.0  216.0   25.0\n",
       "3  DT1431 %    True%  55.0   70.0  86.0  132.0   32.0\n",
       "3    Test %    True%  57.0   75.0  82.0  149.0   30.0"
      ]
     },
     "execution_count": 66,
     "metadata": {},
     "output_type": "execute_result"
    }
   ],
   "source": [
    "conf_df[conf_df['Good/Bad'] == 'True%']"
   ]
  },
  {
   "cell_type": "markdown",
   "metadata": {},
   "source": [
    "#### Analysis: Precision is very minimal\n",
    "\n",
    "In observing the data the True Positive is inaccurate and the classifier is unable to truly separate the data.  The undersampling resulted in too much data being classified as buy or sell."
   ]
  },
  {
   "cell_type": "markdown",
   "metadata": {},
   "source": [
    "### 1.9.2 Run data without undersampling"
   ]
  },
  {
   "cell_type": "code",
   "execution_count": 67,
   "metadata": {},
   "outputs": [
    {
     "name": "stderr",
     "output_type": "stream",
     "text": [
      "C:\\Users\\salfl\\.conda\\envs\\ml\\lib\\site-packages\\sklearn\\metrics\\classification.py:576: RuntimeWarning: invalid value encountered in true_divide\n",
      "  k = np.sum(w_mat * confusion) / np.sum(w_mat * expected)\n"
     ]
    }
   ],
   "source": [
    "name='DT'\n",
    "score_df = pd.DataFrame(columns=['Name', 'Accuracy','Precision','Recall','F1','Cappa'])\n",
    "conf_df = pd.DataFrame(columns=['Label', 'Good/Bad','Buy','Sell','Hold','Miss','Total'])\n",
    "tv.fit(X['Combined'].dropna().values.flatten())\n",
    "for train_index, test_index in tscv.split(X):\n",
    "    # Split data by train, validation and test.  Use the validation step to tune\n",
    "    X_train, X_val, X_test, y_train, y_val, y_test = get_train_test_val_split(train_index, test_index)\n",
    "    \n",
    "    # Get TF-IDF on all the data\n",
    "    train_features = tv.transform(X_train['Combined'].dropna().values.flatten())\n",
    "    val_features = tv.transform(X_val['Combined'].dropna().values.flatten())\n",
    "    test_features = tv.transform(X_test['Combined'].dropna().values.flatten())\n",
    "    \n",
    "  \n",
    "    # Run modeling algorithm\n",
    "    model = model.fit(train_features.toarray(), y_train)\n",
    "    predictions = model.predict(val_features.toarray())\n",
    "    \n",
    "    # Aggregate scores\n",
    "    score = score_test(name+str(train_index[-1]), y_val, predictions)\n",
    "    score_df = score_df.append(score, ignore_index=True)\n",
    "    conf_df = conf_df.append(calc_true_score(name+str(train_index[-1]), y_val, predictions))"
   ]
  },
  {
   "cell_type": "code",
   "execution_count": 68,
   "metadata": {},
   "outputs": [],
   "source": [
    "name='Test'\n",
    "# Run modeling algorithm\n",
    "predictions = model.predict(test_features.toarray())\n",
    "\n",
    "# Aggregate scores\n",
    "score = score_test(name, y_test, predictions)\n",
    "score_df = score_df.append(score, ignore_index=True)"
   ]
  },
  {
   "cell_type": "code",
   "execution_count": 69,
   "metadata": {},
   "outputs": [
    {
     "data": {
      "text/html": [
       "<div>\n",
       "<style scoped>\n",
       "    .dataframe tbody tr th:only-of-type {\n",
       "        vertical-align: middle;\n",
       "    }\n",
       "\n",
       "    .dataframe tbody tr th {\n",
       "        vertical-align: top;\n",
       "    }\n",
       "\n",
       "    .dataframe thead th {\n",
       "        text-align: right;\n",
       "    }\n",
       "</style>\n",
       "<table border=\"1\" class=\"dataframe\">\n",
       "  <thead>\n",
       "    <tr style=\"text-align: right;\">\n",
       "      <th></th>\n",
       "      <th>Name</th>\n",
       "      <th>Accuracy</th>\n",
       "      <th>Precision</th>\n",
       "      <th>Recall</th>\n",
       "      <th>F1</th>\n",
       "      <th>Cappa</th>\n",
       "    </tr>\n",
       "  </thead>\n",
       "  <tbody>\n",
       "    <tr>\n",
       "      <th>0</th>\n",
       "      <td>DT207</td>\n",
       "      <td>0.711538</td>\n",
       "      <td>0.050505</td>\n",
       "      <td>0.045455</td>\n",
       "      <td>0.047847</td>\n",
       "      <td>-0.500000</td>\n",
       "    </tr>\n",
       "    <tr>\n",
       "      <th>1</th>\n",
       "      <td>DT411</td>\n",
       "      <td>0.696078</td>\n",
       "      <td>0.045333</td>\n",
       "      <td>0.066667</td>\n",
       "      <td>0.053968</td>\n",
       "      <td>-0.363636</td>\n",
       "    </tr>\n",
       "    <tr>\n",
       "      <th>2</th>\n",
       "      <td>DT615</td>\n",
       "      <td>0.627451</td>\n",
       "      <td>0.193396</td>\n",
       "      <td>0.150943</td>\n",
       "      <td>0.150828</td>\n",
       "      <td>-0.181818</td>\n",
       "    </tr>\n",
       "    <tr>\n",
       "      <th>3</th>\n",
       "      <td>DT819</td>\n",
       "      <td>0.759804</td>\n",
       "      <td>0.069062</td>\n",
       "      <td>0.187500</td>\n",
       "      <td>0.096464</td>\n",
       "      <td>0.166667</td>\n",
       "    </tr>\n",
       "    <tr>\n",
       "      <th>4</th>\n",
       "      <td>DT1023</td>\n",
       "      <td>0.794118</td>\n",
       "      <td>0.048951</td>\n",
       "      <td>0.090909</td>\n",
       "      <td>0.063636</td>\n",
       "      <td>NaN</td>\n",
       "    </tr>\n",
       "    <tr>\n",
       "      <th>5</th>\n",
       "      <td>DT1227</td>\n",
       "      <td>0.867647</td>\n",
       "      <td>0.069231</td>\n",
       "      <td>0.076923</td>\n",
       "      <td>0.072874</td>\n",
       "      <td>0.000000</td>\n",
       "    </tr>\n",
       "    <tr>\n",
       "      <th>6</th>\n",
       "      <td>DT1431</td>\n",
       "      <td>0.715686</td>\n",
       "      <td>0.070312</td>\n",
       "      <td>0.062500</td>\n",
       "      <td>0.066176</td>\n",
       "      <td>0.000000</td>\n",
       "    </tr>\n",
       "    <tr>\n",
       "      <th>7</th>\n",
       "      <td>Test</td>\n",
       "      <td>0.725490</td>\n",
       "      <td>0.060150</td>\n",
       "      <td>0.057143</td>\n",
       "      <td>0.058608</td>\n",
       "      <td>0.000000</td>\n",
       "    </tr>\n",
       "  </tbody>\n",
       "</table>\n",
       "</div>"
      ],
      "text/plain": [
       "     Name  Accuracy  Precision    Recall        F1     Cappa\n",
       "0   DT207  0.711538   0.050505  0.045455  0.047847 -0.500000\n",
       "1   DT411  0.696078   0.045333  0.066667  0.053968 -0.363636\n",
       "2   DT615  0.627451   0.193396  0.150943  0.150828 -0.181818\n",
       "3   DT819  0.759804   0.069062  0.187500  0.096464  0.166667\n",
       "4  DT1023  0.794118   0.048951  0.090909  0.063636       NaN\n",
       "5  DT1227  0.867647   0.069231  0.076923  0.072874  0.000000\n",
       "6  DT1431  0.715686   0.070312  0.062500  0.066176  0.000000\n",
       "7    Test  0.725490   0.060150  0.057143  0.058608  0.000000"
      ]
     },
     "execution_count": 69,
     "metadata": {},
     "output_type": "execute_result"
    }
   ],
   "source": [
    "score_df"
   ]
  },
  {
   "cell_type": "code",
   "execution_count": 70,
   "metadata": {},
   "outputs": [
    {
     "data": {
      "text/html": [
       "<div>\n",
       "<style scoped>\n",
       "    .dataframe tbody tr th:only-of-type {\n",
       "        vertical-align: middle;\n",
       "    }\n",
       "\n",
       "    .dataframe tbody tr th {\n",
       "        vertical-align: top;\n",
       "    }\n",
       "\n",
       "    .dataframe thead th {\n",
       "        text-align: right;\n",
       "    }\n",
       "</style>\n",
       "<table border=\"1\" class=\"dataframe\">\n",
       "  <thead>\n",
       "    <tr style=\"text-align: right;\">\n",
       "      <th></th>\n",
       "      <th>Accuracy</th>\n",
       "      <th>Precision</th>\n",
       "      <th>Recall</th>\n",
       "      <th>F1</th>\n",
       "      <th>Cappa</th>\n",
       "    </tr>\n",
       "  </thead>\n",
       "  <tbody>\n",
       "    <tr>\n",
       "      <th>sum</th>\n",
       "      <td>5.897813</td>\n",
       "      <td>0.606942</td>\n",
       "      <td>0.738040</td>\n",
       "      <td>0.610403</td>\n",
       "      <td>-0.878788</td>\n",
       "    </tr>\n",
       "    <tr>\n",
       "      <th>mean</th>\n",
       "      <td>0.737227</td>\n",
       "      <td>0.075868</td>\n",
       "      <td>0.092255</td>\n",
       "      <td>0.076300</td>\n",
       "      <td>-0.125541</td>\n",
       "    </tr>\n",
       "  </tbody>\n",
       "</table>\n",
       "</div>"
      ],
      "text/plain": [
       "      Accuracy  Precision    Recall        F1     Cappa\n",
       "sum   5.897813   0.606942  0.738040  0.610403 -0.878788\n",
       "mean  0.737227   0.075868  0.092255  0.076300 -0.125541"
      ]
     },
     "execution_count": 70,
     "metadata": {},
     "output_type": "execute_result"
    }
   ],
   "source": [
    "score_df.iloc[:,1:].agg(['sum', 'mean'])"
   ]
  },
  {
   "cell_type": "markdown",
   "metadata": {},
   "source": [
    "#### Adding\\removing undersampling did not make any definable change in the data"
   ]
  },
  {
   "cell_type": "code",
   "execution_count": 71,
   "metadata": {},
   "outputs": [
    {
     "data": {
      "text/html": [
       "<div>\n",
       "<style scoped>\n",
       "    .dataframe tbody tr th:only-of-type {\n",
       "        vertical-align: middle;\n",
       "    }\n",
       "\n",
       "    .dataframe tbody tr th {\n",
       "        vertical-align: top;\n",
       "    }\n",
       "\n",
       "    .dataframe thead th {\n",
       "        text-align: right;\n",
       "    }\n",
       "</style>\n",
       "<table border=\"1\" class=\"dataframe\">\n",
       "  <thead>\n",
       "    <tr style=\"text-align: right;\">\n",
       "      <th></th>\n",
       "      <th>Label</th>\n",
       "      <th>Good/Bad</th>\n",
       "      <th>Buy</th>\n",
       "      <th>Sell</th>\n",
       "      <th>Hold</th>\n",
       "      <th>Miss</th>\n",
       "      <th>Total</th>\n",
       "    </tr>\n",
       "  </thead>\n",
       "  <tbody>\n",
       "    <tr>\n",
       "      <th>3</th>\n",
       "      <td>DT207 %</td>\n",
       "      <td>True%</td>\n",
       "      <td>0.0</td>\n",
       "      <td>33.0</td>\n",
       "      <td>80.0</td>\n",
       "      <td>10.0</td>\n",
       "      <td>47.0</td>\n",
       "    </tr>\n",
       "    <tr>\n",
       "      <th>3</th>\n",
       "      <td>DT411 %</td>\n",
       "      <td>True%</td>\n",
       "      <td>0.0</td>\n",
       "      <td>50.0</td>\n",
       "      <td>85.0</td>\n",
       "      <td>21.0</td>\n",
       "      <td>45.0</td>\n",
       "    </tr>\n",
       "    <tr>\n",
       "      <th>3</th>\n",
       "      <td>DT615 %</td>\n",
       "      <td>True%</td>\n",
       "      <td>43.0</td>\n",
       "      <td>36.0</td>\n",
       "      <td>79.0</td>\n",
       "      <td>20.0</td>\n",
       "      <td>46.0</td>\n",
       "    </tr>\n",
       "    <tr>\n",
       "      <th>3</th>\n",
       "      <td>DT819 %</td>\n",
       "      <td>True%</td>\n",
       "      <td>50.0</td>\n",
       "      <td>67.0</td>\n",
       "      <td>93.0</td>\n",
       "      <td>22.0</td>\n",
       "      <td>45.0</td>\n",
       "    </tr>\n",
       "    <tr>\n",
       "      <th>3</th>\n",
       "      <td>DT1023 %</td>\n",
       "      <td>True%</td>\n",
       "      <td>0.0</td>\n",
       "      <td>100.0</td>\n",
       "      <td>94.0</td>\n",
       "      <td>19.0</td>\n",
       "      <td>46.0</td>\n",
       "    </tr>\n",
       "    <tr>\n",
       "      <th>3</th>\n",
       "      <td>DT1227 %</td>\n",
       "      <td>True%</td>\n",
       "      <td>0.0</td>\n",
       "      <td>100.0</td>\n",
       "      <td>94.0</td>\n",
       "      <td>8.0</td>\n",
       "      <td>48.0</td>\n",
       "    </tr>\n",
       "    <tr>\n",
       "      <th>3</th>\n",
       "      <td>DT1431 %</td>\n",
       "      <td>True%</td>\n",
       "      <td>0.0</td>\n",
       "      <td>100.0</td>\n",
       "      <td>83.0</td>\n",
       "      <td>16.0</td>\n",
       "      <td>46.0</td>\n",
       "    </tr>\n",
       "  </tbody>\n",
       "</table>\n",
       "</div>"
      ],
      "text/plain": [
       "      Label Good/Bad   Buy   Sell  Hold  Miss  Total\n",
       "3   DT207 %    True%   0.0   33.0  80.0  10.0   47.0\n",
       "3   DT411 %    True%   0.0   50.0  85.0  21.0   45.0\n",
       "3   DT615 %    True%  43.0   36.0  79.0  20.0   46.0\n",
       "3   DT819 %    True%  50.0   67.0  93.0  22.0   45.0\n",
       "3  DT1023 %    True%   0.0  100.0  94.0  19.0   46.0\n",
       "3  DT1227 %    True%   0.0  100.0  94.0   8.0   48.0\n",
       "3  DT1431 %    True%   0.0  100.0  83.0  16.0   46.0"
      ]
     },
     "execution_count": 71,
     "metadata": {},
     "output_type": "execute_result"
    }
   ],
   "source": [
    "conf_df[conf_df['Good/Bad'] == 'True%']"
   ]
  },
  {
   "cell_type": "code",
   "execution_count": null,
   "metadata": {},
   "outputs": [],
   "source": []
  }
 ],
 "metadata": {
  "kernelspec": {
   "display_name": "Python 3",
   "language": "python",
   "name": "python3"
  },
  "language_info": {
   "codemirror_mode": {
    "name": "ipython",
    "version": 3
   },
   "file_extension": ".py",
   "mimetype": "text/x-python",
   "name": "python",
   "nbconvert_exporter": "python",
   "pygments_lexer": "ipython3",
   "version": "3.7.1"
  }
 },
 "nbformat": 4,
 "nbformat_minor": 2
}
